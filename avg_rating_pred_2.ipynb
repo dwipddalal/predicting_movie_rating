{
  "cells": [
    {
      "cell_type": "markdown",
      "metadata": {
        "id": "U34T9wuu-THc"
      },
      "source": [
        "## Importing libraries"
      ]
    },
    {
      "cell_type": "code",
      "execution_count": 1,
      "metadata": {
        "id": "4BCHKUU4-THg"
      },
      "outputs": [],
      "source": [
        "import pandas as pd\n",
        "import numpy as np\n",
        "from sklearn import preprocessing\n",
        "import tensorflow as tf\n",
        "from tensorflow import keras\n",
        "from tensorflow.keras.callbacks import ModelCheckpoint\n",
        "from tensorflow.keras.models import Sequential\n",
        "from tensorflow.keras.layers import Dense, Activation, Flatten\n",
        "from tensorflow.keras.preprocessing.text import Tokenizer"
      ]
    },
    {
      "cell_type": "code",
      "execution_count": 2,
      "metadata": {
        "id": "TnZ8lSac-THi"
      },
      "outputs": [],
      "source": [
        "X_train = pd.read_csv('dataset/X_train.csv')\n",
        "y_train = pd.read_csv('dataset/y_train.csv')"
      ]
    },
    {
      "cell_type": "code",
      "execution_count": 3,
      "metadata": {
        "colab": {
          "base_uri": "https://localhost:8080/",
          "height": 721
        },
        "id": "CHU-9q6Y-THj",
        "outputId": "1a1b23ac-b470-444e-a94a-c5a75601d559"
      },
      "outputs": [
        {
          "output_type": "execute_result",
          "data": {
            "text/plain": [
              "                                               title          genres  \\\n",
              "0                                          Alev Alev  Drama-Thriller   \n",
              "1                                     Those Who Work           Drama   \n",
              "2                                             Driven             NaN   \n",
              "3                            Netherlands Documentary             NaN   \n",
              "4  Utta Danella - Der Verlobte meiner besten Freu...           Drama   \n",
              "\n",
              "  original_language                                           overview  \\\n",
              "0                tr                                                NaN   \n",
              "1                fr  Frank a man of action who worked his way up al...   \n",
              "2                en  In a world of adrenaline and speed a quadriple...   \n",
              "3                en  Sex Drugs & Other Taboo Topics The World Is To...   \n",
              "4                de  Katharina and Elena are best friends. After a ...   \n",
              "\n",
              "   popularity                               production_companies release_date  \\\n",
              "0       0.664                                         Erler Film   01-01-1984   \n",
              "1       4.174  Box Productions-Novak Prod-Office Fédéral de l...   04-10-2018   \n",
              "2       0.600                                                NaN   13-12-2019   \n",
              "3       0.600                                                NaN   27-02-2020   \n",
              "4       1.152                                                NaN   03-04-2009   \n",
              "\n",
              "   budget  revenue  runtime    status tagline  vote_count  \\\n",
              "0       0        0    118.0  Released     NaN           2   \n",
              "1       0        0    102.0  Released     NaN          67   \n",
              "2       0        0     17.0  Released     NaN           0   \n",
              "3       0        0     60.0  Released     NaN           0   \n",
              "4       0        0     88.0  Released     NaN           2   \n",
              "\n",
              "                                             credits  \\\n",
              "0  Tarık Akan-Gülşen Bubikoğlu-Cüneyt Arkın-Çiğde...   \n",
              "1  Olivier Gourmet-Adèle Bochatay-Delphine Bibet-...   \n",
              "2                                                NaN   \n",
              "3                                                NaN   \n",
              "4  Henriette Richter-Röhl-Ina Paule Klink-Robert ...   \n",
              "\n",
              "                                            keywords  \n",
              "0  pregnancy-model-sea captain-businessman-illega...  \n",
              "1                                                NaN  \n",
              "2                                                NaN  \n",
              "3                                                NaN  \n",
              "4                                                NaN  "
            ],
            "text/html": [
              "\n",
              "  <div id=\"df-583b290c-f20b-4c11-98a9-7a6c87c575b7\">\n",
              "    <div class=\"colab-df-container\">\n",
              "      <div>\n",
              "<style scoped>\n",
              "    .dataframe tbody tr th:only-of-type {\n",
              "        vertical-align: middle;\n",
              "    }\n",
              "\n",
              "    .dataframe tbody tr th {\n",
              "        vertical-align: top;\n",
              "    }\n",
              "\n",
              "    .dataframe thead th {\n",
              "        text-align: right;\n",
              "    }\n",
              "</style>\n",
              "<table border=\"1\" class=\"dataframe\">\n",
              "  <thead>\n",
              "    <tr style=\"text-align: right;\">\n",
              "      <th></th>\n",
              "      <th>title</th>\n",
              "      <th>genres</th>\n",
              "      <th>original_language</th>\n",
              "      <th>overview</th>\n",
              "      <th>popularity</th>\n",
              "      <th>production_companies</th>\n",
              "      <th>release_date</th>\n",
              "      <th>budget</th>\n",
              "      <th>revenue</th>\n",
              "      <th>runtime</th>\n",
              "      <th>status</th>\n",
              "      <th>tagline</th>\n",
              "      <th>vote_count</th>\n",
              "      <th>credits</th>\n",
              "      <th>keywords</th>\n",
              "    </tr>\n",
              "  </thead>\n",
              "  <tbody>\n",
              "    <tr>\n",
              "      <th>0</th>\n",
              "      <td>Alev Alev</td>\n",
              "      <td>Drama-Thriller</td>\n",
              "      <td>tr</td>\n",
              "      <td>NaN</td>\n",
              "      <td>0.664</td>\n",
              "      <td>Erler Film</td>\n",
              "      <td>01-01-1984</td>\n",
              "      <td>0</td>\n",
              "      <td>0</td>\n",
              "      <td>118.0</td>\n",
              "      <td>Released</td>\n",
              "      <td>NaN</td>\n",
              "      <td>2</td>\n",
              "      <td>Tarık Akan-Gülşen Bubikoğlu-Cüneyt Arkın-Çiğde...</td>\n",
              "      <td>pregnancy-model-sea captain-businessman-illega...</td>\n",
              "    </tr>\n",
              "    <tr>\n",
              "      <th>1</th>\n",
              "      <td>Those Who Work</td>\n",
              "      <td>Drama</td>\n",
              "      <td>fr</td>\n",
              "      <td>Frank a man of action who worked his way up al...</td>\n",
              "      <td>4.174</td>\n",
              "      <td>Box Productions-Novak Prod-Office Fédéral de l...</td>\n",
              "      <td>04-10-2018</td>\n",
              "      <td>0</td>\n",
              "      <td>0</td>\n",
              "      <td>102.0</td>\n",
              "      <td>Released</td>\n",
              "      <td>NaN</td>\n",
              "      <td>67</td>\n",
              "      <td>Olivier Gourmet-Adèle Bochatay-Delphine Bibet-...</td>\n",
              "      <td>NaN</td>\n",
              "    </tr>\n",
              "    <tr>\n",
              "      <th>2</th>\n",
              "      <td>Driven</td>\n",
              "      <td>NaN</td>\n",
              "      <td>en</td>\n",
              "      <td>In a world of adrenaline and speed a quadriple...</td>\n",
              "      <td>0.600</td>\n",
              "      <td>NaN</td>\n",
              "      <td>13-12-2019</td>\n",
              "      <td>0</td>\n",
              "      <td>0</td>\n",
              "      <td>17.0</td>\n",
              "      <td>Released</td>\n",
              "      <td>NaN</td>\n",
              "      <td>0</td>\n",
              "      <td>NaN</td>\n",
              "      <td>NaN</td>\n",
              "    </tr>\n",
              "    <tr>\n",
              "      <th>3</th>\n",
              "      <td>Netherlands Documentary</td>\n",
              "      <td>NaN</td>\n",
              "      <td>en</td>\n",
              "      <td>Sex Drugs &amp; Other Taboo Topics The World Is To...</td>\n",
              "      <td>0.600</td>\n",
              "      <td>NaN</td>\n",
              "      <td>27-02-2020</td>\n",
              "      <td>0</td>\n",
              "      <td>0</td>\n",
              "      <td>60.0</td>\n",
              "      <td>Released</td>\n",
              "      <td>NaN</td>\n",
              "      <td>0</td>\n",
              "      <td>NaN</td>\n",
              "      <td>NaN</td>\n",
              "    </tr>\n",
              "    <tr>\n",
              "      <th>4</th>\n",
              "      <td>Utta Danella - Der Verlobte meiner besten Freu...</td>\n",
              "      <td>Drama</td>\n",
              "      <td>de</td>\n",
              "      <td>Katharina and Elena are best friends. After a ...</td>\n",
              "      <td>1.152</td>\n",
              "      <td>NaN</td>\n",
              "      <td>03-04-2009</td>\n",
              "      <td>0</td>\n",
              "      <td>0</td>\n",
              "      <td>88.0</td>\n",
              "      <td>Released</td>\n",
              "      <td>NaN</td>\n",
              "      <td>2</td>\n",
              "      <td>Henriette Richter-Röhl-Ina Paule Klink-Robert ...</td>\n",
              "      <td>NaN</td>\n",
              "    </tr>\n",
              "  </tbody>\n",
              "</table>\n",
              "</div>\n",
              "      <button class=\"colab-df-convert\" onclick=\"convertToInteractive('df-583b290c-f20b-4c11-98a9-7a6c87c575b7')\"\n",
              "              title=\"Convert this dataframe to an interactive table.\"\n",
              "              style=\"display:none;\">\n",
              "        \n",
              "  <svg xmlns=\"http://www.w3.org/2000/svg\" height=\"24px\"viewBox=\"0 0 24 24\"\n",
              "       width=\"24px\">\n",
              "    <path d=\"M0 0h24v24H0V0z\" fill=\"none\"/>\n",
              "    <path d=\"M18.56 5.44l.94 2.06.94-2.06 2.06-.94-2.06-.94-.94-2.06-.94 2.06-2.06.94zm-11 1L8.5 8.5l.94-2.06 2.06-.94-2.06-.94L8.5 2.5l-.94 2.06-2.06.94zm10 10l.94 2.06.94-2.06 2.06-.94-2.06-.94-.94-2.06-.94 2.06-2.06.94z\"/><path d=\"M17.41 7.96l-1.37-1.37c-.4-.4-.92-.59-1.43-.59-.52 0-1.04.2-1.43.59L10.3 9.45l-7.72 7.72c-.78.78-.78 2.05 0 2.83L4 21.41c.39.39.9.59 1.41.59.51 0 1.02-.2 1.41-.59l7.78-7.78 2.81-2.81c.8-.78.8-2.07 0-2.86zM5.41 20L4 18.59l7.72-7.72 1.47 1.35L5.41 20z\"/>\n",
              "  </svg>\n",
              "      </button>\n",
              "      \n",
              "  <style>\n",
              "    .colab-df-container {\n",
              "      display:flex;\n",
              "      flex-wrap:wrap;\n",
              "      gap: 12px;\n",
              "    }\n",
              "\n",
              "    .colab-df-convert {\n",
              "      background-color: #E8F0FE;\n",
              "      border: none;\n",
              "      border-radius: 50%;\n",
              "      cursor: pointer;\n",
              "      display: none;\n",
              "      fill: #1967D2;\n",
              "      height: 32px;\n",
              "      padding: 0 0 0 0;\n",
              "      width: 32px;\n",
              "    }\n",
              "\n",
              "    .colab-df-convert:hover {\n",
              "      background-color: #E2EBFA;\n",
              "      box-shadow: 0px 1px 2px rgba(60, 64, 67, 0.3), 0px 1px 3px 1px rgba(60, 64, 67, 0.15);\n",
              "      fill: #174EA6;\n",
              "    }\n",
              "\n",
              "    [theme=dark] .colab-df-convert {\n",
              "      background-color: #3B4455;\n",
              "      fill: #D2E3FC;\n",
              "    }\n",
              "\n",
              "    [theme=dark] .colab-df-convert:hover {\n",
              "      background-color: #434B5C;\n",
              "      box-shadow: 0px 1px 3px 1px rgba(0, 0, 0, 0.15);\n",
              "      filter: drop-shadow(0px 1px 2px rgba(0, 0, 0, 0.3));\n",
              "      fill: #FFFFFF;\n",
              "    }\n",
              "  </style>\n",
              "\n",
              "      <script>\n",
              "        const buttonEl =\n",
              "          document.querySelector('#df-583b290c-f20b-4c11-98a9-7a6c87c575b7 button.colab-df-convert');\n",
              "        buttonEl.style.display =\n",
              "          google.colab.kernel.accessAllowed ? 'block' : 'none';\n",
              "\n",
              "        async function convertToInteractive(key) {\n",
              "          const element = document.querySelector('#df-583b290c-f20b-4c11-98a9-7a6c87c575b7');\n",
              "          const dataTable =\n",
              "            await google.colab.kernel.invokeFunction('convertToInteractive',\n",
              "                                                     [key], {});\n",
              "          if (!dataTable) return;\n",
              "\n",
              "          const docLinkHtml = 'Like what you see? Visit the ' +\n",
              "            '<a target=\"_blank\" href=https://colab.research.google.com/notebooks/data_table.ipynb>data table notebook</a>'\n",
              "            + ' to learn more about interactive tables.';\n",
              "          element.innerHTML = '';\n",
              "          dataTable['output_type'] = 'display_data';\n",
              "          await google.colab.output.renderOutput(dataTable, element);\n",
              "          const docLink = document.createElement('div');\n",
              "          docLink.innerHTML = docLinkHtml;\n",
              "          element.appendChild(docLink);\n",
              "        }\n",
              "      </script>\n",
              "    </div>\n",
              "  </div>\n",
              "  "
            ]
          },
          "metadata": {},
          "execution_count": 3
        }
      ],
      "source": [
        "X_train.head()"
      ]
    },
    {
      "cell_type": "code",
      "execution_count": 4,
      "metadata": {
        "id": "M2VHJfYW-THk"
      },
      "outputs": [],
      "source": [
        "X_train.drop_duplicates(inplace=True)"
      ]
    },
    {
      "cell_type": "code",
      "execution_count": 5,
      "metadata": {
        "colab": {
          "base_uri": "https://localhost:8080/"
        },
        "id": "3Lm3XWYS-THk",
        "outputId": "e6295904-3135-4a66-b808-9c805e2c55e5"
      },
      "outputs": [
        {
          "output_type": "execute_result",
          "data": {
            "text/plain": [
              "(752677, 15)"
            ]
          },
          "metadata": {},
          "execution_count": 5
        }
      ],
      "source": [
        "X_train.shape"
      ]
    },
    {
      "cell_type": "code",
      "execution_count": 6,
      "metadata": {
        "id": "whAFI8dw-THk"
      },
      "outputs": [],
      "source": [
        "X_train =  X_train[['genres','credits']]"
      ]
    },
    {
      "cell_type": "markdown",
      "metadata": {
        "id": "iobKjG5E-THl"
      },
      "source": [
        "#### Here we shall work on the text which need to be tokenized and then converted to label binary endode input sequence"
      ]
    },
    {
      "cell_type": "code",
      "execution_count": 7,
      "metadata": {
        "colab": {
          "base_uri": "https://localhost:8080/"
        },
        "id": "fkZWG1RZ-THm",
        "outputId": "ab8de612-640f-4b4e-d9f1-93f7c9290a69"
      },
      "outputs": [
        {
          "output_type": "stream",
          "name": "stdout",
          "text": [
            "<class 'pandas.core.frame.DataFrame'>\n",
            "Int64Index: 752677 entries, 0 to 752677\n",
            "Data columns (total 2 columns):\n",
            " #   Column   Non-Null Count   Dtype \n",
            "---  ------   --------------   ----- \n",
            " 0   genres   529280 non-null  object\n",
            " 1   credits  521461 non-null  object\n",
            "dtypes: object(2)\n",
            "memory usage: 17.2+ MB\n"
          ]
        }
      ],
      "source": [
        "X_train.info()"
      ]
    },
    {
      "cell_type": "code",
      "execution_count": 8,
      "metadata": {
        "colab": {
          "base_uri": "https://localhost:8080/"
        },
        "id": "EFoRaAZF-THn",
        "outputId": "29775b3c-43be-4dbd-f2d8-d9561f0f2165"
      },
      "outputs": [
        {
          "output_type": "execute_result",
          "data": {
            "text/plain": [
              "genres     223397\n",
              "credits    231216\n",
              "dtype: int64"
            ]
          },
          "metadata": {},
          "execution_count": 8
        }
      ],
      "source": [
        "X_train.isnull().sum()"
      ]
    },
    {
      "cell_type": "code",
      "execution_count": 9,
      "metadata": {
        "id": "tbIHRlQm-THn"
      },
      "outputs": [],
      "source": [
        "X_train.dropna(inplace=True)"
      ]
    },
    {
      "cell_type": "code",
      "execution_count": 10,
      "metadata": {
        "id": "nDuwmh0U-THo"
      },
      "outputs": [],
      "source": [
        "X_train['credits'] = X_train['credits'].apply(lambda x: str(x))\n",
        "X_train['credits'] = X_train['credits'].apply(lambda x: x.replace(' ', '_'))\n",
        "X_train['credits'] = X_train['credits'].apply(lambda x: x.replace('-', ' '))"
      ]
    },
    {
      "cell_type": "code",
      "execution_count": 11,
      "metadata": {
        "id": "uwnQcB2L-THo"
      },
      "outputs": [],
      "source": [
        "X_train['genres'] = X_train['genres'].apply(lambda x: str(x))\n",
        "X_train['genres'] = X_train['genres'].apply(lambda x: x.replace(' ', '_'))\n",
        "X_train['genres'] = X_train['genres'].apply(lambda x: x.replace('-', ' '))"
      ]
    },
    {
      "cell_type": "code",
      "execution_count": 12,
      "metadata": {
        "id": "HIKFDzgv-THp"
      },
      "outputs": [],
      "source": [
        "X_train['input'] = X_train['genres'] + ' ' + X_train['credits']"
      ]
    },
    {
      "cell_type": "code",
      "execution_count": 13,
      "metadata": {
        "colab": {
          "base_uri": "https://localhost:8080/",
          "height": 206
        },
        "id": "MiYA--Mq-THp",
        "outputId": "9e413b4c-7e52-4446-c143-4e2319274805"
      },
      "outputs": [
        {
          "output_type": "execute_result",
          "data": {
            "text/plain": [
              "             genres                                            credits  \\\n",
              "0    Drama Thriller  Tarık_Akan Gülşen_Bubikoğlu Cüneyt_Arkın Çiğde...   \n",
              "1             Drama  Olivier_Gourmet Adèle_Bochatay Delphine_Bibet ...   \n",
              "4             Drama  Henriette_Richter Röhl Ina_Paule_Klink Robert_...   \n",
              "6  Animation Comedy                                      Iva_Janžurová   \n",
              "7             Drama  Robert_Cawdron Peter_Dyneley Lee_Patterson She...   \n",
              "\n",
              "                                               input  \n",
              "0  Drama Thriller Tarık_Akan Gülşen_Bubikoğlu Cün...  \n",
              "1  Drama Olivier_Gourmet Adèle_Bochatay Delphine_...  \n",
              "4  Drama Henriette_Richter Röhl Ina_Paule_Klink R...  \n",
              "6                     Animation Comedy Iva_Janžurová  \n",
              "7  Drama Robert_Cawdron Peter_Dyneley Lee_Patters...  "
            ],
            "text/html": [
              "\n",
              "  <div id=\"df-5061867d-5038-4ac5-b793-85a283a4554d\">\n",
              "    <div class=\"colab-df-container\">\n",
              "      <div>\n",
              "<style scoped>\n",
              "    .dataframe tbody tr th:only-of-type {\n",
              "        vertical-align: middle;\n",
              "    }\n",
              "\n",
              "    .dataframe tbody tr th {\n",
              "        vertical-align: top;\n",
              "    }\n",
              "\n",
              "    .dataframe thead th {\n",
              "        text-align: right;\n",
              "    }\n",
              "</style>\n",
              "<table border=\"1\" class=\"dataframe\">\n",
              "  <thead>\n",
              "    <tr style=\"text-align: right;\">\n",
              "      <th></th>\n",
              "      <th>genres</th>\n",
              "      <th>credits</th>\n",
              "      <th>input</th>\n",
              "    </tr>\n",
              "  </thead>\n",
              "  <tbody>\n",
              "    <tr>\n",
              "      <th>0</th>\n",
              "      <td>Drama Thriller</td>\n",
              "      <td>Tarık_Akan Gülşen_Bubikoğlu Cüneyt_Arkın Çiğde...</td>\n",
              "      <td>Drama Thriller Tarık_Akan Gülşen_Bubikoğlu Cün...</td>\n",
              "    </tr>\n",
              "    <tr>\n",
              "      <th>1</th>\n",
              "      <td>Drama</td>\n",
              "      <td>Olivier_Gourmet Adèle_Bochatay Delphine_Bibet ...</td>\n",
              "      <td>Drama Olivier_Gourmet Adèle_Bochatay Delphine_...</td>\n",
              "    </tr>\n",
              "    <tr>\n",
              "      <th>4</th>\n",
              "      <td>Drama</td>\n",
              "      <td>Henriette_Richter Röhl Ina_Paule_Klink Robert_...</td>\n",
              "      <td>Drama Henriette_Richter Röhl Ina_Paule_Klink R...</td>\n",
              "    </tr>\n",
              "    <tr>\n",
              "      <th>6</th>\n",
              "      <td>Animation Comedy</td>\n",
              "      <td>Iva_Janžurová</td>\n",
              "      <td>Animation Comedy Iva_Janžurová</td>\n",
              "    </tr>\n",
              "    <tr>\n",
              "      <th>7</th>\n",
              "      <td>Drama</td>\n",
              "      <td>Robert_Cawdron Peter_Dyneley Lee_Patterson She...</td>\n",
              "      <td>Drama Robert_Cawdron Peter_Dyneley Lee_Patters...</td>\n",
              "    </tr>\n",
              "  </tbody>\n",
              "</table>\n",
              "</div>\n",
              "      <button class=\"colab-df-convert\" onclick=\"convertToInteractive('df-5061867d-5038-4ac5-b793-85a283a4554d')\"\n",
              "              title=\"Convert this dataframe to an interactive table.\"\n",
              "              style=\"display:none;\">\n",
              "        \n",
              "  <svg xmlns=\"http://www.w3.org/2000/svg\" height=\"24px\"viewBox=\"0 0 24 24\"\n",
              "       width=\"24px\">\n",
              "    <path d=\"M0 0h24v24H0V0z\" fill=\"none\"/>\n",
              "    <path d=\"M18.56 5.44l.94 2.06.94-2.06 2.06-.94-2.06-.94-.94-2.06-.94 2.06-2.06.94zm-11 1L8.5 8.5l.94-2.06 2.06-.94-2.06-.94L8.5 2.5l-.94 2.06-2.06.94zm10 10l.94 2.06.94-2.06 2.06-.94-2.06-.94-.94-2.06-.94 2.06-2.06.94z\"/><path d=\"M17.41 7.96l-1.37-1.37c-.4-.4-.92-.59-1.43-.59-.52 0-1.04.2-1.43.59L10.3 9.45l-7.72 7.72c-.78.78-.78 2.05 0 2.83L4 21.41c.39.39.9.59 1.41.59.51 0 1.02-.2 1.41-.59l7.78-7.78 2.81-2.81c.8-.78.8-2.07 0-2.86zM5.41 20L4 18.59l7.72-7.72 1.47 1.35L5.41 20z\"/>\n",
              "  </svg>\n",
              "      </button>\n",
              "      \n",
              "  <style>\n",
              "    .colab-df-container {\n",
              "      display:flex;\n",
              "      flex-wrap:wrap;\n",
              "      gap: 12px;\n",
              "    }\n",
              "\n",
              "    .colab-df-convert {\n",
              "      background-color: #E8F0FE;\n",
              "      border: none;\n",
              "      border-radius: 50%;\n",
              "      cursor: pointer;\n",
              "      display: none;\n",
              "      fill: #1967D2;\n",
              "      height: 32px;\n",
              "      padding: 0 0 0 0;\n",
              "      width: 32px;\n",
              "    }\n",
              "\n",
              "    .colab-df-convert:hover {\n",
              "      background-color: #E2EBFA;\n",
              "      box-shadow: 0px 1px 2px rgba(60, 64, 67, 0.3), 0px 1px 3px 1px rgba(60, 64, 67, 0.15);\n",
              "      fill: #174EA6;\n",
              "    }\n",
              "\n",
              "    [theme=dark] .colab-df-convert {\n",
              "      background-color: #3B4455;\n",
              "      fill: #D2E3FC;\n",
              "    }\n",
              "\n",
              "    [theme=dark] .colab-df-convert:hover {\n",
              "      background-color: #434B5C;\n",
              "      box-shadow: 0px 1px 3px 1px rgba(0, 0, 0, 0.15);\n",
              "      filter: drop-shadow(0px 1px 2px rgba(0, 0, 0, 0.3));\n",
              "      fill: #FFFFFF;\n",
              "    }\n",
              "  </style>\n",
              "\n",
              "      <script>\n",
              "        const buttonEl =\n",
              "          document.querySelector('#df-5061867d-5038-4ac5-b793-85a283a4554d button.colab-df-convert');\n",
              "        buttonEl.style.display =\n",
              "          google.colab.kernel.accessAllowed ? 'block' : 'none';\n",
              "\n",
              "        async function convertToInteractive(key) {\n",
              "          const element = document.querySelector('#df-5061867d-5038-4ac5-b793-85a283a4554d');\n",
              "          const dataTable =\n",
              "            await google.colab.kernel.invokeFunction('convertToInteractive',\n",
              "                                                     [key], {});\n",
              "          if (!dataTable) return;\n",
              "\n",
              "          const docLinkHtml = 'Like what you see? Visit the ' +\n",
              "            '<a target=\"_blank\" href=https://colab.research.google.com/notebooks/data_table.ipynb>data table notebook</a>'\n",
              "            + ' to learn more about interactive tables.';\n",
              "          element.innerHTML = '';\n",
              "          dataTable['output_type'] = 'display_data';\n",
              "          await google.colab.output.renderOutput(dataTable, element);\n",
              "          const docLink = document.createElement('div');\n",
              "          docLink.innerHTML = docLinkHtml;\n",
              "          element.appendChild(docLink);\n",
              "        }\n",
              "      </script>\n",
              "    </div>\n",
              "  </div>\n",
              "  "
            ]
          },
          "metadata": {},
          "execution_count": 13
        }
      ],
      "source": [
        "X_train.head()"
      ]
    },
    {
      "cell_type": "code",
      "execution_count": 14,
      "metadata": {
        "id": "QP6L1cDT-THq"
      },
      "outputs": [],
      "source": [
        "X_train.dropna(inplace=True)"
      ]
    },
    {
      "cell_type": "code",
      "execution_count": 15,
      "metadata": {
        "colab": {
          "base_uri": "https://localhost:8080/"
        },
        "id": "CLS9zqAS-THq",
        "outputId": "c2b0597e-4ddb-43aa-b963-67c9cc6939fd"
      },
      "outputs": [
        {
          "output_type": "execute_result",
          "data": {
            "text/plain": [
              "(431211, 3)"
            ]
          },
          "metadata": {},
          "execution_count": 15
        }
      ],
      "source": [
        "X_train.shape"
      ]
    },
    {
      "cell_type": "markdown",
      "metadata": {
        "id": "aZwqC_sZ-THq"
      },
      "source": [
        "### Building the neural network for numeric part of the code"
      ]
    },
    {
      "cell_type": "code",
      "execution_count": 16,
      "metadata": {
        "id": "yK43szgN-THr"
      },
      "outputs": [],
      "source": [
        "# Neural Network Model for label binarizrer\n",
        "X = X_train['input']\n",
        "y = y_train"
      ]
    },
    {
      "cell_type": "markdown",
      "metadata": {
        "id": "tv_luNbz-THr"
      },
      "source": [
        "### Let's tokenize the sequence "
      ]
    },
    {
      "cell_type": "code",
      "execution_count": 17,
      "metadata": {
        "id": "YglCvu_c-THr"
      },
      "outputs": [],
      "source": [
        "# this is for tokenizing the words, then each word of the tokenized list shall be given a specific index \n",
        "tokenizer = Tokenizer(oov_token= '<0VV>') # <0VV> is the token that the model shall replace the unseen words with. So if some word of the test case is not there in tokenized list then that word shall be replaces with 0VV this is done to maintain the size of the sentence. \n",
        "tokenizer.fit_on_texts(X.astype(str)) # we have to use astype(str) as there are some numbers in X_train[!]\n",
        "word_index_ = tokenizer.word_index # gives index to each word and then makes a dictionary of word and their indexes.\n",
        "\n",
        "# # since computer does not understand letters so we shall make list of sequence of numbers that is replaces sentences with sequences of indexes corresponding to those words that shall be feeded to our neural network model.\n",
        "# # the numbers that would constitue to this list are those numbers which are index of the corresponding words in the dictionary.\n",
        "sequence_train = tokenizer.texts_to_sequences(X)"
      ]
    },
    {
      "cell_type": "code",
      "execution_count": 18,
      "metadata": {
        "colab": {
          "base_uri": "https://localhost:8080/"
        },
        "id": "m4EhJt6V-THs",
        "outputId": "a212d58e-e22b-43fb-a4f4-a9cfe63388cc"
      },
      "outputs": [
        {
          "output_type": "stream",
          "name": "stderr",
          "text": [
            "IOPub data rate exceeded.\n",
            "The notebook server will temporarily stop sending output\n",
            "to the client in order to avoid crashing it.\n",
            "To change this limit, set the config variable\n",
            "`--NotebookApp.iopub_data_rate_limit`.\n",
            "\n",
            "Current values:\n",
            "NotebookApp.iopub_data_rate_limit=1000000.0 (bytes/sec)\n",
            "NotebookApp.rate_limit_window=3.0 (secs)\n",
            "\n"
          ]
        }
      ],
      "source": [
        "print(word_index_)"
      ]
    },
    {
      "cell_type": "code",
      "execution_count": 19,
      "metadata": {
        "id": "njSXpwFi-THs"
      },
      "outputs": [],
      "source": [
        "maxi = 0\n",
        "for i in sequence_train:\n",
        "    maxi = max(len(i), maxi)"
      ]
    },
    {
      "cell_type": "code",
      "execution_count": 20,
      "metadata": {
        "colab": {
          "base_uri": "https://localhost:8080/"
        },
        "id": "dL2JUMw0-THt",
        "outputId": "4306ea2d-8bd9-4c23-9e30-ef3e5ff66b96"
      },
      "outputs": [
        {
          "output_type": "stream",
          "name": "stdout",
          "text": [
            "653\n"
          ]
        }
      ],
      "source": [
        "print(maxi)"
      ]
    },
    {
      "cell_type": "code",
      "execution_count": 21,
      "metadata": {
        "id": "XDTHq4_--THt"
      },
      "outputs": [],
      "source": [
        "from tensorflow.keras.preprocessing.sequence import pad_sequences\n",
        "padded_train = pad_sequences(sequence_train, maxlen= maxi)"
      ]
    },
    {
      "cell_type": "code",
      "execution_count": 22,
      "metadata": {
        "colab": {
          "base_uri": "https://localhost:8080/"
        },
        "id": "MtYE5GIA-THu",
        "outputId": "87bb294d-ebfd-4132-d6c3-671b51b75a5b"
      },
      "outputs": [
        {
          "output_type": "stream",
          "name": "stdout",
          "text": [
            "(431211, 653)\n"
          ]
        }
      ],
      "source": [
        "print(padded_train.shape)"
      ]
    },
    {
      "cell_type": "code",
      "source": [
        "X_train = padded_train"
      ],
      "metadata": {
        "id": "cwZCIMIH-c-g"
      },
      "execution_count": 23,
      "outputs": []
    },
    {
      "cell_type": "markdown",
      "metadata": {
        "id": "NYsQ3Df8-THu"
      },
      "source": [
        "### Creating model architecture"
      ]
    },
    {
      "cell_type": "code",
      "execution_count": 24,
      "metadata": {
        "colab": {
          "base_uri": "https://localhost:8080/"
        },
        "id": "nrr3A5oy-THu",
        "outputId": "d7a5173c-956d-4845-d0ad-9f1689bb3f33"
      },
      "outputs": [
        {
          "output_type": "stream",
          "name": "stdout",
          "text": [
            "Model: \"sequential\"\n",
            "_________________________________________________________________\n",
            " Layer (type)                Output Shape              Param #   \n",
            "=================================================================\n",
            " dense (Dense)               (None, 256)               167424    \n",
            "                                                                 \n",
            " dense_1 (Dense)             (None, 64)                16448     \n",
            "                                                                 \n",
            " dense_2 (Dense)             (None, 1)                 65        \n",
            "                                                                 \n",
            "=================================================================\n",
            "Total params: 183,937\n",
            "Trainable params: 183,937\n",
            "Non-trainable params: 0\n",
            "_________________________________________________________________\n"
          ]
        }
      ],
      "source": [
        "NN_model = Sequential()\n",
        "\n",
        "# The Input Layer :\n",
        "NN_model.add(Dense(256, kernel_initializer='normal',input_dim = X_train.shape[1], activation='relu'))\n",
        "\n",
        "# The Hidden Layers :\n",
        "NN_model.add(Dense(64, kernel_initializer='normal',activation='relu'))\n",
        "\n",
        "# The Output Layer :\n",
        "NN_model.add(Dense(1, kernel_initializer='normal',activation='linear'))\n",
        "\n",
        "# Compile the network :\n",
        "NN_model.compile(loss='mean_absolute_error', optimizer='adam', metrics=['mean_absolute_error'])\n",
        "NN_model.summary()"
      ]
    },
    {
      "cell_type": "code",
      "execution_count": 25,
      "metadata": {
        "id": "4iPTte3H-THv"
      },
      "outputs": [],
      "source": [
        "checkpoint_name = 'Weights_2_-{epoch:03d}--{val_loss:.5f}.hX_train5' \n",
        "checkpoint = ModelCheckpoint(checkpoint_name, monitor='val_loss', verbose = 1, save_best_only = True, mode ='auto')\n",
        "callbacks_list = [checkpoint]"
      ]
    },
    {
      "cell_type": "code",
      "execution_count": null,
      "metadata": {
        "id": "0uUqAnGt-THv"
      },
      "outputs": [],
      "source": [
        "NN_model.fit(X_train, y_train, epochs=100, batch_size=32, validation_split = 0.1, callbacks=callbacks_list)"
      ]
    },
    {
      "cell_type": "code",
      "source": [
        "NN_model = tf.keras.models.load_model('/content/Weights_2_-013--2.50026.hX_train5')"
      ],
      "metadata": {
        "id": "eMESyZ4nJon8"
      },
      "execution_count": 28,
      "outputs": []
    },
    {
      "cell_type": "code",
      "source": [
        "NN_model.summary()"
      ],
      "metadata": {
        "colab": {
          "base_uri": "https://localhost:8080/"
        },
        "id": "IKjXulQ2JvP5",
        "outputId": "b63054db-03c0-4a22-d459-98fd0cff60d9"
      },
      "execution_count": 29,
      "outputs": [
        {
          "output_type": "stream",
          "name": "stdout",
          "text": [
            "Model: \"sequential\"\n",
            "_________________________________________________________________\n",
            " Layer (type)                Output Shape              Param #   \n",
            "=================================================================\n",
            " dense (Dense)               (None, 256)               167424    \n",
            "                                                                 \n",
            " dense_1 (Dense)             (None, 256)               65792     \n",
            "                                                                 \n",
            " dense_2 (Dense)             (None, 64)                16448     \n",
            "                                                                 \n",
            " dense_3 (Dense)             (None, 1)                 65        \n",
            "                                                                 \n",
            "=================================================================\n",
            "Total params: 249,729\n",
            "Trainable params: 249,729\n",
            "Non-trainable params: 0\n",
            "_________________________________________________________________\n"
          ]
        }
      ]
    },
    {
      "cell_type": "code",
      "source": [
        ""
      ],
      "metadata": {
        "id": "ln06HMpPW2j1"
      },
      "execution_count": null,
      "outputs": []
    }
  ],
  "metadata": {
    "kernelspec": {
      "display_name": "Python 3.8.13 ('final_env': conda)",
      "language": "python",
      "name": "python3"
    },
    "language_info": {
      "codemirror_mode": {
        "name": "ipython",
        "version": 3
      },
      "file_extension": ".py",
      "mimetype": "text/x-python",
      "name": "python",
      "nbconvert_exporter": "python",
      "pygments_lexer": "ipython3",
      "version": "3.8.13"
    },
    "vscode": {
      "interpreter": {
        "hash": "f32098bf18b237a29edf33fb109e7161a223a7c7e245abe4c7b7b2f95aa30c17"
      }
    },
    "colab": {
      "name": "avg_rating_pred copy.ipynb",
      "provenance": [],
      "collapsed_sections": []
    },
    "accelerator": "GPU",
    "gpuClass": "standard"
  },
  "nbformat": 4,
  "nbformat_minor": 0
}