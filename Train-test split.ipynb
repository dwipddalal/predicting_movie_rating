{
 "cells": [
  {
   "cell_type": "markdown",
   "metadata": {},
   "source": [
    "## Importing libraries"
   ]
  },
  {
   "cell_type": "code",
   "execution_count": 7,
   "metadata": {},
   "outputs": [],
   "source": [
    "import pandas as pd\n",
    "from sklearn import preprocessing"
   ]
  },
  {
   "cell_type": "code",
   "execution_count": 8,
   "metadata": {},
   "outputs": [
    {
     "data": {
      "text/plain": [
       "(768439, 16)"
      ]
     },
     "execution_count": 8,
     "metadata": {},
     "output_type": "execute_result"
    }
   ],
   "source": [
    "df = pd.read_csv('/home/dwip.dalal/movies_rating_prediction/movie.csv') # this contains the data formed after removing unecessary columns.\n",
    "df.shape"
   ]
  },
  {
   "cell_type": "code",
   "execution_count": 9,
   "metadata": {},
   "outputs": [
    {
     "data": {
      "text/plain": [
       "400"
      ]
     },
     "execution_count": 9,
     "metadata": {},
     "output_type": "execute_result"
    }
   ],
   "source": [
    "df.duplicated().sum() # this is to check if there are any duplicate rows in the dataframe."
   ]
  },
  {
   "cell_type": "code",
   "execution_count": 10,
   "metadata": {},
   "outputs": [],
   "source": [
    "df.drop_duplicates(inplace=True) # this is to drop the duplicate rows."
   ]
  },
  {
   "cell_type": "code",
   "execution_count": 11,
   "metadata": {},
   "outputs": [
    {
     "data": {
      "text/plain": [
       "(768039, 16)"
      ]
     },
     "execution_count": 11,
     "metadata": {},
     "output_type": "execute_result"
    }
   ],
   "source": [
    "df.shape"
   ]
  },
  {
   "cell_type": "code",
   "execution_count": 12,
   "metadata": {},
   "outputs": [
    {
     "data": {
      "text/html": [
       "<div>\n",
       "<style scoped>\n",
       "    .dataframe tbody tr th:only-of-type {\n",
       "        vertical-align: middle;\n",
       "    }\n",
       "\n",
       "    .dataframe tbody tr th {\n",
       "        vertical-align: top;\n",
       "    }\n",
       "\n",
       "    .dataframe thead th {\n",
       "        text-align: right;\n",
       "    }\n",
       "</style>\n",
       "<table border=\"1\" class=\"dataframe\">\n",
       "  <thead>\n",
       "    <tr style=\"text-align: right;\">\n",
       "      <th></th>\n",
       "      <th>title</th>\n",
       "      <th>genres</th>\n",
       "      <th>original_language</th>\n",
       "      <th>overview</th>\n",
       "      <th>popularity</th>\n",
       "      <th>production_companies</th>\n",
       "      <th>release_date</th>\n",
       "      <th>budget</th>\n",
       "      <th>revenue</th>\n",
       "      <th>runtime</th>\n",
       "      <th>status</th>\n",
       "      <th>tagline</th>\n",
       "      <th>vote_count</th>\n",
       "      <th>credits</th>\n",
       "      <th>keywords</th>\n",
       "      <th>vote_average</th>\n",
       "    </tr>\n",
       "  </thead>\n",
       "  <tbody>\n",
       "    <tr>\n",
       "      <th>0</th>\n",
       "      <td>Fantastic Beasts: The Secrets of Dumbledore</td>\n",
       "      <td>Fantasy-Adventure-Action</td>\n",
       "      <td>en</td>\n",
       "      <td>Professor Albus Dumbledore knows the powerful ...</td>\n",
       "      <td>4757.639</td>\n",
       "      <td>Warner Bros. Pictures-Heyday Films</td>\n",
       "      <td>06-04-2022</td>\n",
       "      <td>200000000</td>\n",
       "      <td>400000000</td>\n",
       "      <td>142.0</td>\n",
       "      <td>Released</td>\n",
       "      <td>Return to the magic.</td>\n",
       "      <td>1880</td>\n",
       "      <td>Eddie Redmayne-Jude Law-Mads Mikkelsen-Ezra Mi...</td>\n",
       "      <td>berlin germany-prison-witch-magic-election cam...</td>\n",
       "      <td>6.8</td>\n",
       "    </tr>\n",
       "    <tr>\n",
       "      <th>1</th>\n",
       "      <td>The Lost City</td>\n",
       "      <td>Action-Adventure-Comedy</td>\n",
       "      <td>en</td>\n",
       "      <td>A reclusive romance novelist was sure nothing ...</td>\n",
       "      <td>3694.159</td>\n",
       "      <td>Paramount-Fortis Films-3dot Productions-Exhibi...</td>\n",
       "      <td>24-03-2022</td>\n",
       "      <td>74000000</td>\n",
       "      <td>164289828</td>\n",
       "      <td>112.0</td>\n",
       "      <td>Released</td>\n",
       "      <td>The adventure is real. The heroes are not.</td>\n",
       "      <td>1223</td>\n",
       "      <td>Sandra Bullock-Channing Tatum-Daniel Radcliffe...</td>\n",
       "      <td>duringcreditsstinger</td>\n",
       "      <td>6.8</td>\n",
       "    </tr>\n",
       "    <tr>\n",
       "      <th>2</th>\n",
       "      <td>Sonic the Hedgehog 2</td>\n",
       "      <td>Action-Adventure-Family-Comedy</td>\n",
       "      <td>en</td>\n",
       "      <td>After settling in Green Hills Sonic is eager t...</td>\n",
       "      <td>3534.768</td>\n",
       "      <td>Original Film-Blur Studio-Marza Animation Plan...</td>\n",
       "      <td>30-03-2022</td>\n",
       "      <td>110000000</td>\n",
       "      <td>393000000</td>\n",
       "      <td>122.0</td>\n",
       "      <td>Released</td>\n",
       "      <td>Welcome to the next level.</td>\n",
       "      <td>2120</td>\n",
       "      <td>James Marsden-Ben Schwartz-Tika Sumpter-Natash...</td>\n",
       "      <td>sequel-based on video game-hedgehog-live actio...</td>\n",
       "      <td>7.7</td>\n",
       "    </tr>\n",
       "    <tr>\n",
       "      <th>3</th>\n",
       "      <td>Memory</td>\n",
       "      <td>Action-Thriller-Crime</td>\n",
       "      <td>en</td>\n",
       "      <td>Alex an assassin-for-hire finds that he's beco...</td>\n",
       "      <td>3028.594</td>\n",
       "      <td>Black Bear Pictures-Welle Entertainment-Savill...</td>\n",
       "      <td>28-04-2022</td>\n",
       "      <td>0</td>\n",
       "      <td>11300000</td>\n",
       "      <td>114.0</td>\n",
       "      <td>Released</td>\n",
       "      <td>His mind is fading. His conscience is clear.</td>\n",
       "      <td>330</td>\n",
       "      <td>Liam Neeson-Guy Pearce-Taj Atwal-Harold Torres...</td>\n",
       "      <td>assassin-alzheimer's disease-remake</td>\n",
       "      <td>7.4</td>\n",
       "    </tr>\n",
       "    <tr>\n",
       "      <th>4</th>\n",
       "      <td>Morbius</td>\n",
       "      <td>Action-Science Fiction-Fantasy</td>\n",
       "      <td>en</td>\n",
       "      <td>Dangerously ill with a rare blood disorder and...</td>\n",
       "      <td>2972.127</td>\n",
       "      <td>Columbia Pictures-Avi Arad Productions-Matt To...</td>\n",
       "      <td>30-03-2022</td>\n",
       "      <td>75000000</td>\n",
       "      <td>161000000</td>\n",
       "      <td>105.0</td>\n",
       "      <td>Released</td>\n",
       "      <td>A new Marvel legend arrives.</td>\n",
       "      <td>1740</td>\n",
       "      <td>Jared Leto-Matt Smith-Adria Arjona-Jared Harri...</td>\n",
       "      <td>vampire-based on comic-duringcreditsstinger</td>\n",
       "      <td>6.4</td>\n",
       "    </tr>\n",
       "  </tbody>\n",
       "</table>\n",
       "</div>"
      ],
      "text/plain": [
       "                                         title  \\\n",
       "0  Fantastic Beasts: The Secrets of Dumbledore   \n",
       "1                                The Lost City   \n",
       "2                         Sonic the Hedgehog 2   \n",
       "3                                       Memory   \n",
       "4                                      Morbius   \n",
       "\n",
       "                           genres original_language  \\\n",
       "0        Fantasy-Adventure-Action                en   \n",
       "1         Action-Adventure-Comedy                en   \n",
       "2  Action-Adventure-Family-Comedy                en   \n",
       "3           Action-Thriller-Crime                en   \n",
       "4  Action-Science Fiction-Fantasy                en   \n",
       "\n",
       "                                            overview  popularity  \\\n",
       "0  Professor Albus Dumbledore knows the powerful ...    4757.639   \n",
       "1  A reclusive romance novelist was sure nothing ...    3694.159   \n",
       "2  After settling in Green Hills Sonic is eager t...    3534.768   \n",
       "3  Alex an assassin-for-hire finds that he's beco...    3028.594   \n",
       "4  Dangerously ill with a rare blood disorder and...    2972.127   \n",
       "\n",
       "                                production_companies release_date     budget  \\\n",
       "0                 Warner Bros. Pictures-Heyday Films   06-04-2022  200000000   \n",
       "1  Paramount-Fortis Films-3dot Productions-Exhibi...   24-03-2022   74000000   \n",
       "2  Original Film-Blur Studio-Marza Animation Plan...   30-03-2022  110000000   \n",
       "3  Black Bear Pictures-Welle Entertainment-Savill...   28-04-2022          0   \n",
       "4  Columbia Pictures-Avi Arad Productions-Matt To...   30-03-2022   75000000   \n",
       "\n",
       "     revenue  runtime    status                                       tagline  \\\n",
       "0  400000000    142.0  Released                          Return to the magic.   \n",
       "1  164289828    112.0  Released    The adventure is real. The heroes are not.   \n",
       "2  393000000    122.0  Released                    Welcome to the next level.   \n",
       "3   11300000    114.0  Released  His mind is fading. His conscience is clear.   \n",
       "4  161000000    105.0  Released                  A new Marvel legend arrives.   \n",
       "\n",
       "   vote_count                                            credits  \\\n",
       "0        1880  Eddie Redmayne-Jude Law-Mads Mikkelsen-Ezra Mi...   \n",
       "1        1223  Sandra Bullock-Channing Tatum-Daniel Radcliffe...   \n",
       "2        2120  James Marsden-Ben Schwartz-Tika Sumpter-Natash...   \n",
       "3         330  Liam Neeson-Guy Pearce-Taj Atwal-Harold Torres...   \n",
       "4        1740  Jared Leto-Matt Smith-Adria Arjona-Jared Harri...   \n",
       "\n",
       "                                            keywords  vote_average  \n",
       "0  berlin germany-prison-witch-magic-election cam...           6.8  \n",
       "1                               duringcreditsstinger           6.8  \n",
       "2  sequel-based on video game-hedgehog-live actio...           7.7  \n",
       "3                assassin-alzheimer's disease-remake           7.4  \n",
       "4        vampire-based on comic-duringcreditsstinger           6.4  "
      ]
     },
     "execution_count": 12,
     "metadata": {},
     "output_type": "execute_result"
    }
   ],
   "source": [
    "df.head()"
   ]
  },
  {
   "cell_type": "code",
   "execution_count": 13,
   "metadata": {},
   "outputs": [],
   "source": [
    "X = df.loc[:, df.columns != 'vote_average']\n",
    "y = df.loc[:, df.columns == 'vote_average']"
   ]
  },
  {
   "cell_type": "code",
   "execution_count": 17,
   "metadata": {},
   "outputs": [],
   "source": [
    "from sklearn.model_selection import train_test_split\n",
    "X_train, X_test, y_train, y_test = train_test_split(X, y, test_size=0.02, random_state=42)"
   ]
  },
  {
   "cell_type": "code",
   "execution_count": 18,
   "metadata": {},
   "outputs": [],
   "source": [
    "X_train.to_csv('/home/dwip.dalal/movies_rating_prediction/dataset/X_train.csv', index=False)\n",
    "X_test.to_csv('/home/dwip.dalal/movies_rating_prediction/dataset/X_test.csv', index=False)\n",
    "y_train.to_csv('/home/dwip.dalal/movies_rating_prediction/dataset/y_train.csv', index=False)\n",
    "y_test.to_csv('/home/dwip.dalal/movies_rating_prediction/dataset/y_test.csv', index=False)"
   ]
  }
 ],
 "metadata": {
  "kernelspec": {
   "display_name": "Python 3.8.13 ('pal': conda)",
   "language": "python",
   "name": "python3"
  },
  "language_info": {
   "codemirror_mode": {
    "name": "ipython",
    "version": 3
   },
   "file_extension": ".py",
   "mimetype": "text/x-python",
   "name": "python",
   "nbconvert_exporter": "python",
   "pygments_lexer": "ipython3",
   "version": "3.8.13"
  },
  "orig_nbformat": 4,
  "vscode": {
   "interpreter": {
    "hash": "99bd79105e31133f60409838afb54ed31553801c2675cfb9257695e9fe28666d"
   }
  }
 },
 "nbformat": 4,
 "nbformat_minor": 2
}
