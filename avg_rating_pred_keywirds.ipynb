{
  "cells": [
    {
      "cell_type": "markdown",
      "metadata": {
        "id": "MkiNCnnPJCZt"
      },
      "source": [
        "## Importing libraries"
      ]
    },
    {
      "cell_type": "code",
      "execution_count": 1,
      "metadata": {
        "id": "KKfImbQXJCZy"
      },
      "outputs": [],
      "source": [
        "import pandas as pd\n",
        "import tensorflow as tf\n",
        "from tensorflow.keras.callbacks import ModelCheckpoint\n",
        "from tensorflow.keras.models import Sequential\n",
        "from tensorflow.keras.layers import Dense, Activation, Flatten\n",
        "from tensorflow.keras.preprocessing.text import Tokenizer\n",
        "from nltk.corpus import stopwords\n",
        "from sklearn.model_selection import train_test_split\n",
        "from tensorflow.keras.preprocessing.sequence import pad_sequences\n",
        "import pickle"
      ]
    },
    {
      "cell_type": "code",
      "execution_count": 3,
      "metadata": {
        "id": "IccrzV0zJCZ0"
      },
      "outputs": [],
      "source": [
        "X_train = pd.read_csv('/content/drive/MyDrive/movie_rating/dataset/X_train.csv')\n",
        "y_train = pd.read_csv('/content/drive/MyDrive/movie_rating/dataset/y_train.csv')"
      ]
    },
    {
      "cell_type": "code",
      "execution_count": 4,
      "metadata": {
        "colab": {
          "base_uri": "https://localhost:8080/",
          "height": 721
        },
        "id": "hiPGQtRxJCZ1",
        "outputId": "c734e344-494f-469e-ceb8-56d5076f70ce"
      },
      "outputs": [
        {
          "output_type": "execute_result",
          "data": {
            "text/plain": [
              "                                               title          genres  \\\n",
              "0                                          Alev Alev  Drama-Thriller   \n",
              "1                                     Those Who Work           Drama   \n",
              "2                                             Driven             NaN   \n",
              "3                            Netherlands Documentary             NaN   \n",
              "4  Utta Danella - Der Verlobte meiner besten Freu...           Drama   \n",
              "\n",
              "  original_language                                           overview  \\\n",
              "0                tr                                                NaN   \n",
              "1                fr  Frank a man of action who worked his way up al...   \n",
              "2                en  In a world of adrenaline and speed a quadriple...   \n",
              "3                en  Sex Drugs & Other Taboo Topics The World Is To...   \n",
              "4                de  Katharina and Elena are best friends. After a ...   \n",
              "\n",
              "   popularity                               production_companies release_date  \\\n",
              "0       0.664                                         Erler Film   01-01-1984   \n",
              "1       4.174  Box Productions-Novak Prod-Office Fédéral de l...   04-10-2018   \n",
              "2       0.600                                                NaN   13-12-2019   \n",
              "3       0.600                                                NaN   27-02-2020   \n",
              "4       1.152                                                NaN   03-04-2009   \n",
              "\n",
              "   budget  revenue  runtime    status tagline  vote_count  \\\n",
              "0       0        0    118.0  Released     NaN           2   \n",
              "1       0        0    102.0  Released     NaN          67   \n",
              "2       0        0     17.0  Released     NaN           0   \n",
              "3       0        0     60.0  Released     NaN           0   \n",
              "4       0        0     88.0  Released     NaN           2   \n",
              "\n",
              "                                             credits  \\\n",
              "0  Tarık Akan-Gülşen Bubikoğlu-Cüneyt Arkın-Çiğde...   \n",
              "1  Olivier Gourmet-Adèle Bochatay-Delphine Bibet-...   \n",
              "2                                                NaN   \n",
              "3                                                NaN   \n",
              "4  Henriette Richter-Röhl-Ina Paule Klink-Robert ...   \n",
              "\n",
              "                                            keywords  \n",
              "0  pregnancy-model-sea captain-businessman-illega...  \n",
              "1                                                NaN  \n",
              "2                                                NaN  \n",
              "3                                                NaN  \n",
              "4                                                NaN  "
            ],
            "text/html": [
              "\n",
              "  <div id=\"df-2de64c16-2c26-4322-b3ee-a28b252f5184\">\n",
              "    <div class=\"colab-df-container\">\n",
              "      <div>\n",
              "<style scoped>\n",
              "    .dataframe tbody tr th:only-of-type {\n",
              "        vertical-align: middle;\n",
              "    }\n",
              "\n",
              "    .dataframe tbody tr th {\n",
              "        vertical-align: top;\n",
              "    }\n",
              "\n",
              "    .dataframe thead th {\n",
              "        text-align: right;\n",
              "    }\n",
              "</style>\n",
              "<table border=\"1\" class=\"dataframe\">\n",
              "  <thead>\n",
              "    <tr style=\"text-align: right;\">\n",
              "      <th></th>\n",
              "      <th>title</th>\n",
              "      <th>genres</th>\n",
              "      <th>original_language</th>\n",
              "      <th>overview</th>\n",
              "      <th>popularity</th>\n",
              "      <th>production_companies</th>\n",
              "      <th>release_date</th>\n",
              "      <th>budget</th>\n",
              "      <th>revenue</th>\n",
              "      <th>runtime</th>\n",
              "      <th>status</th>\n",
              "      <th>tagline</th>\n",
              "      <th>vote_count</th>\n",
              "      <th>credits</th>\n",
              "      <th>keywords</th>\n",
              "    </tr>\n",
              "  </thead>\n",
              "  <tbody>\n",
              "    <tr>\n",
              "      <th>0</th>\n",
              "      <td>Alev Alev</td>\n",
              "      <td>Drama-Thriller</td>\n",
              "      <td>tr</td>\n",
              "      <td>NaN</td>\n",
              "      <td>0.664</td>\n",
              "      <td>Erler Film</td>\n",
              "      <td>01-01-1984</td>\n",
              "      <td>0</td>\n",
              "      <td>0</td>\n",
              "      <td>118.0</td>\n",
              "      <td>Released</td>\n",
              "      <td>NaN</td>\n",
              "      <td>2</td>\n",
              "      <td>Tarık Akan-Gülşen Bubikoğlu-Cüneyt Arkın-Çiğde...</td>\n",
              "      <td>pregnancy-model-sea captain-businessman-illega...</td>\n",
              "    </tr>\n",
              "    <tr>\n",
              "      <th>1</th>\n",
              "      <td>Those Who Work</td>\n",
              "      <td>Drama</td>\n",
              "      <td>fr</td>\n",
              "      <td>Frank a man of action who worked his way up al...</td>\n",
              "      <td>4.174</td>\n",
              "      <td>Box Productions-Novak Prod-Office Fédéral de l...</td>\n",
              "      <td>04-10-2018</td>\n",
              "      <td>0</td>\n",
              "      <td>0</td>\n",
              "      <td>102.0</td>\n",
              "      <td>Released</td>\n",
              "      <td>NaN</td>\n",
              "      <td>67</td>\n",
              "      <td>Olivier Gourmet-Adèle Bochatay-Delphine Bibet-...</td>\n",
              "      <td>NaN</td>\n",
              "    </tr>\n",
              "    <tr>\n",
              "      <th>2</th>\n",
              "      <td>Driven</td>\n",
              "      <td>NaN</td>\n",
              "      <td>en</td>\n",
              "      <td>In a world of adrenaline and speed a quadriple...</td>\n",
              "      <td>0.600</td>\n",
              "      <td>NaN</td>\n",
              "      <td>13-12-2019</td>\n",
              "      <td>0</td>\n",
              "      <td>0</td>\n",
              "      <td>17.0</td>\n",
              "      <td>Released</td>\n",
              "      <td>NaN</td>\n",
              "      <td>0</td>\n",
              "      <td>NaN</td>\n",
              "      <td>NaN</td>\n",
              "    </tr>\n",
              "    <tr>\n",
              "      <th>3</th>\n",
              "      <td>Netherlands Documentary</td>\n",
              "      <td>NaN</td>\n",
              "      <td>en</td>\n",
              "      <td>Sex Drugs &amp; Other Taboo Topics The World Is To...</td>\n",
              "      <td>0.600</td>\n",
              "      <td>NaN</td>\n",
              "      <td>27-02-2020</td>\n",
              "      <td>0</td>\n",
              "      <td>0</td>\n",
              "      <td>60.0</td>\n",
              "      <td>Released</td>\n",
              "      <td>NaN</td>\n",
              "      <td>0</td>\n",
              "      <td>NaN</td>\n",
              "      <td>NaN</td>\n",
              "    </tr>\n",
              "    <tr>\n",
              "      <th>4</th>\n",
              "      <td>Utta Danella - Der Verlobte meiner besten Freu...</td>\n",
              "      <td>Drama</td>\n",
              "      <td>de</td>\n",
              "      <td>Katharina and Elena are best friends. After a ...</td>\n",
              "      <td>1.152</td>\n",
              "      <td>NaN</td>\n",
              "      <td>03-04-2009</td>\n",
              "      <td>0</td>\n",
              "      <td>0</td>\n",
              "      <td>88.0</td>\n",
              "      <td>Released</td>\n",
              "      <td>NaN</td>\n",
              "      <td>2</td>\n",
              "      <td>Henriette Richter-Röhl-Ina Paule Klink-Robert ...</td>\n",
              "      <td>NaN</td>\n",
              "    </tr>\n",
              "  </tbody>\n",
              "</table>\n",
              "</div>\n",
              "      <button class=\"colab-df-convert\" onclick=\"convertToInteractive('df-2de64c16-2c26-4322-b3ee-a28b252f5184')\"\n",
              "              title=\"Convert this dataframe to an interactive table.\"\n",
              "              style=\"display:none;\">\n",
              "        \n",
              "  <svg xmlns=\"http://www.w3.org/2000/svg\" height=\"24px\"viewBox=\"0 0 24 24\"\n",
              "       width=\"24px\">\n",
              "    <path d=\"M0 0h24v24H0V0z\" fill=\"none\"/>\n",
              "    <path d=\"M18.56 5.44l.94 2.06.94-2.06 2.06-.94-2.06-.94-.94-2.06-.94 2.06-2.06.94zm-11 1L8.5 8.5l.94-2.06 2.06-.94-2.06-.94L8.5 2.5l-.94 2.06-2.06.94zm10 10l.94 2.06.94-2.06 2.06-.94-2.06-.94-.94-2.06-.94 2.06-2.06.94z\"/><path d=\"M17.41 7.96l-1.37-1.37c-.4-.4-.92-.59-1.43-.59-.52 0-1.04.2-1.43.59L10.3 9.45l-7.72 7.72c-.78.78-.78 2.05 0 2.83L4 21.41c.39.39.9.59 1.41.59.51 0 1.02-.2 1.41-.59l7.78-7.78 2.81-2.81c.8-.78.8-2.07 0-2.86zM5.41 20L4 18.59l7.72-7.72 1.47 1.35L5.41 20z\"/>\n",
              "  </svg>\n",
              "      </button>\n",
              "      \n",
              "  <style>\n",
              "    .colab-df-container {\n",
              "      display:flex;\n",
              "      flex-wrap:wrap;\n",
              "      gap: 12px;\n",
              "    }\n",
              "\n",
              "    .colab-df-convert {\n",
              "      background-color: #E8F0FE;\n",
              "      border: none;\n",
              "      border-radius: 50%;\n",
              "      cursor: pointer;\n",
              "      display: none;\n",
              "      fill: #1967D2;\n",
              "      height: 32px;\n",
              "      padding: 0 0 0 0;\n",
              "      width: 32px;\n",
              "    }\n",
              "\n",
              "    .colab-df-convert:hover {\n",
              "      background-color: #E2EBFA;\n",
              "      box-shadow: 0px 1px 2px rgba(60, 64, 67, 0.3), 0px 1px 3px 1px rgba(60, 64, 67, 0.15);\n",
              "      fill: #174EA6;\n",
              "    }\n",
              "\n",
              "    [theme=dark] .colab-df-convert {\n",
              "      background-color: #3B4455;\n",
              "      fill: #D2E3FC;\n",
              "    }\n",
              "\n",
              "    [theme=dark] .colab-df-convert:hover {\n",
              "      background-color: #434B5C;\n",
              "      box-shadow: 0px 1px 3px 1px rgba(0, 0, 0, 0.15);\n",
              "      filter: drop-shadow(0px 1px 2px rgba(0, 0, 0, 0.3));\n",
              "      fill: #FFFFFF;\n",
              "    }\n",
              "  </style>\n",
              "\n",
              "      <script>\n",
              "        const buttonEl =\n",
              "          document.querySelector('#df-2de64c16-2c26-4322-b3ee-a28b252f5184 button.colab-df-convert');\n",
              "        buttonEl.style.display =\n",
              "          google.colab.kernel.accessAllowed ? 'block' : 'none';\n",
              "\n",
              "        async function convertToInteractive(key) {\n",
              "          const element = document.querySelector('#df-2de64c16-2c26-4322-b3ee-a28b252f5184');\n",
              "          const dataTable =\n",
              "            await google.colab.kernel.invokeFunction('convertToInteractive',\n",
              "                                                     [key], {});\n",
              "          if (!dataTable) return;\n",
              "\n",
              "          const docLinkHtml = 'Like what you see? Visit the ' +\n",
              "            '<a target=\"_blank\" href=https://colab.research.google.com/notebooks/data_table.ipynb>data table notebook</a>'\n",
              "            + ' to learn more about interactive tables.';\n",
              "          element.innerHTML = '';\n",
              "          dataTable['output_type'] = 'display_data';\n",
              "          await google.colab.output.renderOutput(dataTable, element);\n",
              "          const docLink = document.createElement('div');\n",
              "          docLink.innerHTML = docLinkHtml;\n",
              "          element.appendChild(docLink);\n",
              "        }\n",
              "      </script>\n",
              "    </div>\n",
              "  </div>\n",
              "  "
            ]
          },
          "metadata": {},
          "execution_count": 4
        }
      ],
      "source": [
        "X_train.head()"
      ]
    },
    {
      "cell_type": "code",
      "execution_count": 5,
      "metadata": {
        "id": "Q7_6bq4PJCZ1"
      },
      "outputs": [],
      "source": [
        "X_train.drop_duplicates(inplace=True)"
      ]
    },
    {
      "cell_type": "code",
      "execution_count": 6,
      "metadata": {
        "colab": {
          "base_uri": "https://localhost:8080/"
        },
        "id": "HP5-JSzdJCZ2",
        "outputId": "127f0ac4-5488-4196-92b8-864db13681e5"
      },
      "outputs": [
        {
          "output_type": "execute_result",
          "data": {
            "text/plain": [
              "(752677, 15)"
            ]
          },
          "metadata": {},
          "execution_count": 6
        }
      ],
      "source": [
        "X_train.shape"
      ]
    },
    {
      "cell_type": "code",
      "execution_count": 7,
      "metadata": {
        "id": "FAdZdEhZJCZ3"
      },
      "outputs": [],
      "source": [
        "X_train =  X_train[['keywords']]"
      ]
    },
    {
      "cell_type": "markdown",
      "metadata": {
        "id": "tAieAPF6JCZ3"
      },
      "source": [
        "#### Here we shall work on the text which need to be tokenized and then converted to label binary endode input sequence"
      ]
    },
    {
      "cell_type": "code",
      "execution_count": 8,
      "metadata": {
        "colab": {
          "base_uri": "https://localhost:8080/"
        },
        "id": "yGWKrsvQJCZ4",
        "outputId": "b3bee018-db48-4c28-96d5-0c15782309d3"
      },
      "outputs": [
        {
          "output_type": "stream",
          "name": "stdout",
          "text": [
            "<class 'pandas.core.frame.DataFrame'>\n",
            "Int64Index: 752677 entries, 0 to 752677\n",
            "Data columns (total 1 columns):\n",
            " #   Column    Non-Null Count   Dtype \n",
            "---  ------    --------------   ----- \n",
            " 0   keywords  218469 non-null  object\n",
            "dtypes: object(1)\n",
            "memory usage: 11.5+ MB\n"
          ]
        }
      ],
      "source": [
        "X_train.info()"
      ]
    },
    {
      "cell_type": "code",
      "execution_count": 9,
      "metadata": {
        "colab": {
          "base_uri": "https://localhost:8080/"
        },
        "id": "XmdFxvQ2JCZ4",
        "outputId": "54bbb344-e5a8-4495-f858-23e35010c82d"
      },
      "outputs": [
        {
          "output_type": "execute_result",
          "data": {
            "text/plain": [
              "keywords    534208\n",
              "dtype: int64"
            ]
          },
          "metadata": {},
          "execution_count": 9
        }
      ],
      "source": [
        "X_train.isnull().sum()"
      ]
    },
    {
      "cell_type": "code",
      "execution_count": 10,
      "metadata": {
        "id": "DrMAcIyYJCZ5"
      },
      "outputs": [],
      "source": [
        "X_train.dropna(inplace=True)"
      ]
    },
    {
      "cell_type": "code",
      "source": [
        "X_train['keywords'] = X_train['keywords'].apply(lambda x: str(x).lower())\n",
        "X_train['keywords'] = X_train['keywords'].apply(lambda x: x.replace('-',' '))"
      ],
      "metadata": {
        "id": "iFxxoLjDOZ4M"
      },
      "execution_count": 11,
      "outputs": []
    },
    {
      "cell_type": "code",
      "execution_count": 12,
      "metadata": {
        "colab": {
          "base_uri": "https://localhost:8080/",
          "height": 206
        },
        "id": "7_ZqsifSJCZ5",
        "outputId": "1caa4f0c-4994-4630-f156-a30863d59c4a"
      },
      "outputs": [
        {
          "output_type": "execute_result",
          "data": {
            "text/plain": [
              "                                             keywords\n",
              "0   pregnancy model sea captain businessman illega...\n",
              "8   artists' life educational pablo picasso art ex...\n",
              "15                                             horror\n",
              "16            texas dam disaster flood disaster movie\n",
              "26                                   mail order bride"
            ],
            "text/html": [
              "\n",
              "  <div id=\"df-163f9202-90d6-48fb-b8f1-9d858a546a64\">\n",
              "    <div class=\"colab-df-container\">\n",
              "      <div>\n",
              "<style scoped>\n",
              "    .dataframe tbody tr th:only-of-type {\n",
              "        vertical-align: middle;\n",
              "    }\n",
              "\n",
              "    .dataframe tbody tr th {\n",
              "        vertical-align: top;\n",
              "    }\n",
              "\n",
              "    .dataframe thead th {\n",
              "        text-align: right;\n",
              "    }\n",
              "</style>\n",
              "<table border=\"1\" class=\"dataframe\">\n",
              "  <thead>\n",
              "    <tr style=\"text-align: right;\">\n",
              "      <th></th>\n",
              "      <th>keywords</th>\n",
              "    </tr>\n",
              "  </thead>\n",
              "  <tbody>\n",
              "    <tr>\n",
              "      <th>0</th>\n",
              "      <td>pregnancy model sea captain businessman illega...</td>\n",
              "    </tr>\n",
              "    <tr>\n",
              "      <th>8</th>\n",
              "      <td>artists' life educational pablo picasso art ex...</td>\n",
              "    </tr>\n",
              "    <tr>\n",
              "      <th>15</th>\n",
              "      <td>horror</td>\n",
              "    </tr>\n",
              "    <tr>\n",
              "      <th>16</th>\n",
              "      <td>texas dam disaster flood disaster movie</td>\n",
              "    </tr>\n",
              "    <tr>\n",
              "      <th>26</th>\n",
              "      <td>mail order bride</td>\n",
              "    </tr>\n",
              "  </tbody>\n",
              "</table>\n",
              "</div>\n",
              "      <button class=\"colab-df-convert\" onclick=\"convertToInteractive('df-163f9202-90d6-48fb-b8f1-9d858a546a64')\"\n",
              "              title=\"Convert this dataframe to an interactive table.\"\n",
              "              style=\"display:none;\">\n",
              "        \n",
              "  <svg xmlns=\"http://www.w3.org/2000/svg\" height=\"24px\"viewBox=\"0 0 24 24\"\n",
              "       width=\"24px\">\n",
              "    <path d=\"M0 0h24v24H0V0z\" fill=\"none\"/>\n",
              "    <path d=\"M18.56 5.44l.94 2.06.94-2.06 2.06-.94-2.06-.94-.94-2.06-.94 2.06-2.06.94zm-11 1L8.5 8.5l.94-2.06 2.06-.94-2.06-.94L8.5 2.5l-.94 2.06-2.06.94zm10 10l.94 2.06.94-2.06 2.06-.94-2.06-.94-.94-2.06-.94 2.06-2.06.94z\"/><path d=\"M17.41 7.96l-1.37-1.37c-.4-.4-.92-.59-1.43-.59-.52 0-1.04.2-1.43.59L10.3 9.45l-7.72 7.72c-.78.78-.78 2.05 0 2.83L4 21.41c.39.39.9.59 1.41.59.51 0 1.02-.2 1.41-.59l7.78-7.78 2.81-2.81c.8-.78.8-2.07 0-2.86zM5.41 20L4 18.59l7.72-7.72 1.47 1.35L5.41 20z\"/>\n",
              "  </svg>\n",
              "      </button>\n",
              "      \n",
              "  <style>\n",
              "    .colab-df-container {\n",
              "      display:flex;\n",
              "      flex-wrap:wrap;\n",
              "      gap: 12px;\n",
              "    }\n",
              "\n",
              "    .colab-df-convert {\n",
              "      background-color: #E8F0FE;\n",
              "      border: none;\n",
              "      border-radius: 50%;\n",
              "      cursor: pointer;\n",
              "      display: none;\n",
              "      fill: #1967D2;\n",
              "      height: 32px;\n",
              "      padding: 0 0 0 0;\n",
              "      width: 32px;\n",
              "    }\n",
              "\n",
              "    .colab-df-convert:hover {\n",
              "      background-color: #E2EBFA;\n",
              "      box-shadow: 0px 1px 2px rgba(60, 64, 67, 0.3), 0px 1px 3px 1px rgba(60, 64, 67, 0.15);\n",
              "      fill: #174EA6;\n",
              "    }\n",
              "\n",
              "    [theme=dark] .colab-df-convert {\n",
              "      background-color: #3B4455;\n",
              "      fill: #D2E3FC;\n",
              "    }\n",
              "\n",
              "    [theme=dark] .colab-df-convert:hover {\n",
              "      background-color: #434B5C;\n",
              "      box-shadow: 0px 1px 3px 1px rgba(0, 0, 0, 0.15);\n",
              "      filter: drop-shadow(0px 1px 2px rgba(0, 0, 0, 0.3));\n",
              "      fill: #FFFFFF;\n",
              "    }\n",
              "  </style>\n",
              "\n",
              "      <script>\n",
              "        const buttonEl =\n",
              "          document.querySelector('#df-163f9202-90d6-48fb-b8f1-9d858a546a64 button.colab-df-convert');\n",
              "        buttonEl.style.display =\n",
              "          google.colab.kernel.accessAllowed ? 'block' : 'none';\n",
              "\n",
              "        async function convertToInteractive(key) {\n",
              "          const element = document.querySelector('#df-163f9202-90d6-48fb-b8f1-9d858a546a64');\n",
              "          const dataTable =\n",
              "            await google.colab.kernel.invokeFunction('convertToInteractive',\n",
              "                                                     [key], {});\n",
              "          if (!dataTable) return;\n",
              "\n",
              "          const docLinkHtml = 'Like what you see? Visit the ' +\n",
              "            '<a target=\"_blank\" href=https://colab.research.google.com/notebooks/data_table.ipynb>data table notebook</a>'\n",
              "            + ' to learn more about interactive tables.';\n",
              "          element.innerHTML = '';\n",
              "          dataTable['output_type'] = 'display_data';\n",
              "          await google.colab.output.renderOutput(dataTable, element);\n",
              "          const docLink = document.createElement('div');\n",
              "          docLink.innerHTML = docLinkHtml;\n",
              "          element.appendChild(docLink);\n",
              "        }\n",
              "      </script>\n",
              "    </div>\n",
              "  </div>\n",
              "  "
            ]
          },
          "metadata": {},
          "execution_count": 12
        }
      ],
      "source": [
        "X_train.head()"
      ]
    },
    {
      "cell_type": "code",
      "execution_count": 13,
      "metadata": {
        "id": "sAoOi7PaJCZ6"
      },
      "outputs": [],
      "source": [
        "X_train.dropna(inplace=True)"
      ]
    },
    {
      "cell_type": "code",
      "execution_count": 14,
      "metadata": {
        "colab": {
          "base_uri": "https://localhost:8080/"
        },
        "id": "TfPr0_AIJCZ6",
        "outputId": "e2c11f6e-6399-41ec-b4ee-ffe97ba985b2"
      },
      "outputs": [
        {
          "output_type": "execute_result",
          "data": {
            "text/plain": [
              "(218469, 1)"
            ]
          },
          "metadata": {},
          "execution_count": 14
        }
      ],
      "source": [
        "X_train.shape"
      ]
    },
    {
      "cell_type": "markdown",
      "metadata": {
        "id": "td3OMQAvJCZ6"
      },
      "source": [
        "### Building the neural network for numeric part of the code"
      ]
    },
    {
      "cell_type": "code",
      "execution_count": 15,
      "metadata": {
        "id": "D-BpSMyTJCZ7"
      },
      "outputs": [],
      "source": [
        "# Neural Network Model for label binarizrer\n",
        "X = X_train['keywords']\n",
        "y = y_train"
      ]
    },
    {
      "cell_type": "code",
      "execution_count": 16,
      "metadata": {
        "colab": {
          "base_uri": "https://localhost:8080/"
        },
        "id": "trrau98QJCZ7",
        "outputId": "56a47831-60c5-4d8d-d967-2211add990aa"
      },
      "outputs": [
        {
          "output_type": "execute_result",
          "data": {
            "text/plain": [
              "0         pregnancy model sea captain businessman illega...\n",
              "8         artists' life educational pablo picasso art ex...\n",
              "15                                                   horror\n",
              "16                  texas dam disaster flood disaster movie\n",
              "26                                         mail order bride\n",
              "                                ...                        \n",
              "752669                        softcore exhibitionism voyeur\n",
              "752671    casino exploitation gambling debt softcore sex...\n",
              "752673    wrestling pro wrestling female wrestler wrestl...\n",
              "752675                                               parody\n",
              "752677    lake finland nature documentary finnish mythology\n",
              "Name: keywords, Length: 218469, dtype: object"
            ]
          },
          "metadata": {},
          "execution_count": 16
        }
      ],
      "source": [
        "X_train['keywords']\n"
      ]
    },
    {
      "cell_type": "markdown",
      "metadata": {
        "id": "tKMYFN0FJCZ8"
      },
      "source": [
        "### Let's tokenize the sequence "
      ]
    },
    {
      "cell_type": "code",
      "execution_count": 17,
      "metadata": {
        "id": "36RdvSXmJCZ8"
      },
      "outputs": [],
      "source": [
        "vocab_size = 40000\n",
        "max_length = 120"
      ]
    },
    {
      "cell_type": "code",
      "execution_count": 18,
      "metadata": {
        "id": "wH6yb5l-JCZ9"
      },
      "outputs": [],
      "source": [
        "# this is for tokenizing the words, then each word of the tokenized list shall be given a specific index \n",
        "tokenizer = Tokenizer(num_words=vocab_size, oov_token= '<0VV>') # <0VV> is the token that the model shall replace the unseen words with. So if some word of the test case is not there in tokenized list then that word shall be replaces with 0VV this is done to maintain the size of the sentence. \n",
        "tokenizer.fit_on_texts(X_train['keywords'].astype(str)) # we have to use astype(str) as there are some numbers in X_train[!]\n",
        "word_index_ = tokenizer.word_index # gives index to each word and then makes a dictionary of word and their indexes.\n",
        "\n",
        "\n",
        "# the numbers that would constitue to this list are those numbers which are index of the corresponding words in the dictionary.\n",
        "sequence_train = tokenizer.texts_to_sequences(X_train['keywords'])"
      ]
    },
    {
      "cell_type": "code",
      "source": [
        "sequence_train"
      ],
      "metadata": {
        "id": "me3-I4GWDG_C"
      },
      "execution_count": null,
      "outputs": []
    },
    {
      "cell_type": "code",
      "execution_count": 20,
      "metadata": {
        "colab": {
          "base_uri": "https://localhost:8080/"
        },
        "id": "71Gpy2BAJCZ9",
        "outputId": "f5fbc4e5-4386-41a8-d2c4-4caa665a503c"
      },
      "outputs": [
        {
          "output_type": "stream",
          "name": "stdout",
          "text": [
            "26528\n"
          ]
        }
      ],
      "source": [
        "print(len(word_index_))"
      ]
    },
    {
      "cell_type": "code",
      "execution_count": 21,
      "metadata": {
        "id": "6mNRM1MgJCZ9"
      },
      "outputs": [],
      "source": [
        "padded_train = pad_sequences(sequence_train, maxlen = 52)\n",
        "\n",
        "X_train = padded_train"
      ]
    },
    {
      "cell_type": "code",
      "source": [
        "print(X_train)"
      ],
      "metadata": {
        "colab": {
          "base_uri": "https://localhost:8080/"
        },
        "id": "invVwOcUDCr5",
        "outputId": "4716e224-af22-4173-d40c-2215e20d0076"
      },
      "execution_count": 22,
      "outputs": [
        {
          "output_type": "stream",
          "name": "stdout",
          "text": [
            "[[   0    0    0 ... 3357  538  834]\n",
            " [   0    0    0 ... 4107   57 2421]\n",
            " [   0    0    0 ...    0    0   39]\n",
            " ...\n",
            " [   0    0    0 ...  770   44 1117]\n",
            " [   0    0    0 ...    0    0  274]\n",
            " [   0    0    0 ...   52 2436  466]]\n"
          ]
        }
      ]
    },
    {
      "cell_type": "code",
      "source": [
        "with open('tokenizer.pickle', 'wb') as handle:\n",
        "    pickle.dump(tokenizer, handle, protocol=pickle.HIGHEST_PROTOCOL)"
      ],
      "metadata": {
        "id": "xCQ9GT9DDZeQ"
      },
      "execution_count": 23,
      "outputs": []
    },
    {
      "cell_type": "markdown",
      "metadata": {
        "id": "fZFSVfUwJCZ-"
      },
      "source": [
        "### LSTM"
      ]
    },
    {
      "cell_type": "code",
      "execution_count": 24,
      "metadata": {
        "id": "QAwOMOuJJCZ_"
      },
      "outputs": [],
      "source": [
        "model1 = tf.keras.models.Sequential()\n",
        "model1.add(tf.keras.layers.Embedding(40000, 52, input_length=52)) \n",
        "model1.add(tf.keras.layers.LSTM(100, return_sequences=True,))\n",
        "model1.add(tf.keras.layers.LSTM(100))\n",
        "model1.add(tf.keras.layers.Dense(30, activation=\"relu\"))\n",
        "model1.add(tf.keras.layers.Dense(10, activation=\"relu\"))\n",
        "model1.add(tf.keras.layers.Dense(1, activation=\"linear\"))"
      ]
    },
    {
      "cell_type": "code",
      "source": [
        "model1.summary()\n",
        "model1.compile(loss='mean_absolute_error', optimizer='adam', metrics=['mean_absolute_error'])"
      ],
      "metadata": {
        "colab": {
          "base_uri": "https://localhost:8080/"
        },
        "id": "uzxfZgne5gqr",
        "outputId": "a7826c6b-f4e1-4306-c944-0842e22a795c"
      },
      "execution_count": 25,
      "outputs": [
        {
          "output_type": "stream",
          "name": "stdout",
          "text": [
            "Model: \"sequential\"\n",
            "_________________________________________________________________\n",
            " Layer (type)                Output Shape              Param #   \n",
            "=================================================================\n",
            " embedding (Embedding)       (None, 52, 52)            2080000   \n",
            "                                                                 \n",
            " lstm (LSTM)                 (None, 52, 100)           61200     \n",
            "                                                                 \n",
            " lstm_1 (LSTM)               (None, 100)               80400     \n",
            "                                                                 \n",
            " dense (Dense)               (None, 30)                3030      \n",
            "                                                                 \n",
            " dense_1 (Dense)             (None, 10)                310       \n",
            "                                                                 \n",
            " dense_2 (Dense)             (None, 1)                 11        \n",
            "                                                                 \n",
            "=================================================================\n",
            "Total params: 2,224,951\n",
            "Trainable params: 2,224,951\n",
            "Non-trainable params: 0\n",
            "_________________________________________________________________\n"
          ]
        }
      ]
    },
    {
      "cell_type": "code",
      "execution_count": 26,
      "metadata": {
        "id": "QjCmcw58JCZ_"
      },
      "outputs": [],
      "source": [
        "checkpoint_name = 'Weights-{epoch:03d}--{val_loss:.5f}.hX_train5' \n",
        "checkpoint = ModelCheckpoint(checkpoint_name, monitor='val_loss', verbose = 1, save_best_only = True, mode ='auto')\n",
        "callbacks_list = [checkpoint]"
      ]
    },
    {
      "cell_type": "code",
      "execution_count": null,
      "metadata": {
        "id": "RcaAQQ5cJCZ_"
      },
      "outputs": [],
      "source": [
        "model1.fit(X_train, y_train, epochs=500, batch_size=32, validation_split = 0.1, callbacks=callbacks_list)"
      ]
    }
  ],
  "metadata": {
    "kernelspec": {
      "display_name": "Python 3.8.13 ('final_env': conda)",
      "language": "python",
      "name": "python3"
    },
    "language_info": {
      "codemirror_mode": {
        "name": "ipython",
        "version": 3
      },
      "file_extension": ".py",
      "mimetype": "text/x-python",
      "name": "python",
      "nbconvert_exporter": "python",
      "pygments_lexer": "ipython3",
      "version": "3.8.13"
    },
    "orig_nbformat": 4,
    "vscode": {
      "interpreter": {
        "hash": "f32098bf18b237a29edf33fb109e7161a223a7c7e245abe4c7b7b2f95aa30c17"
      }
    },
    "colab": {
      "name": "Copy of avg_rating_pred copy 2.ipynb",
      "provenance": [],
      "collapsed_sections": []
    },
    "accelerator": "GPU",
    "gpuClass": "standard"
  },
  "nbformat": 4,
  "nbformat_minor": 0
}