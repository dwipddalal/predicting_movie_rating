{
 "cells": [
  {
   "cell_type": "markdown",
   "metadata": {},
   "source": [
    "## Importing libraries"
   ]
  },
  {
   "cell_type": "code",
   "execution_count": 5,
   "metadata": {},
   "outputs": [],
   "source": [
    "import pandas as pd\n",
    "from sklearn import preprocessing\n",
    "import tensorflow as tf\n",
    "from tensorflow import keras\n",
    "from tensorflow.keras.callbacks import ModelCheckpoint\n",
    "from tensorflow.keras.models import Sequential\n",
    "from tensorflow.keras.layers import Dense, Activation, Flatten\n",
    "import sys\n",
    "import matplotlib.pyplot as plt\n",
    "sys.path.append(\"../\")"
   ]
  },
  {
   "cell_type": "code",
   "execution_count": 6,
   "metadata": {},
   "outputs": [],
   "source": [
    "X_train = pd.read_csv('dataset/X_train.csv')\n",
    "y_train = pd.read_csv('dataset/y_train.csv')"
   ]
  },
  {
   "cell_type": "code",
   "execution_count": 7,
   "metadata": {},
   "outputs": [
    {
     "data": {
      "text/html": [
       "<div>\n",
       "<style scoped>\n",
       "    .dataframe tbody tr th:only-of-type {\n",
       "        vertical-align: middle;\n",
       "    }\n",
       "\n",
       "    .dataframe tbody tr th {\n",
       "        vertical-align: top;\n",
       "    }\n",
       "\n",
       "    .dataframe thead th {\n",
       "        text-align: right;\n",
       "    }\n",
       "</style>\n",
       "<table border=\"1\" class=\"dataframe\">\n",
       "  <thead>\n",
       "    <tr style=\"text-align: right;\">\n",
       "      <th></th>\n",
       "      <th>title</th>\n",
       "      <th>genres</th>\n",
       "      <th>original_language</th>\n",
       "      <th>overview</th>\n",
       "      <th>popularity</th>\n",
       "      <th>production_companies</th>\n",
       "      <th>release_date</th>\n",
       "      <th>budget</th>\n",
       "      <th>revenue</th>\n",
       "      <th>runtime</th>\n",
       "      <th>status</th>\n",
       "      <th>tagline</th>\n",
       "      <th>vote_count</th>\n",
       "      <th>credits</th>\n",
       "      <th>keywords</th>\n",
       "    </tr>\n",
       "  </thead>\n",
       "  <tbody>\n",
       "    <tr>\n",
       "      <th>0</th>\n",
       "      <td>Alev Alev</td>\n",
       "      <td>Drama-Thriller</td>\n",
       "      <td>tr</td>\n",
       "      <td>NaN</td>\n",
       "      <td>0.664</td>\n",
       "      <td>Erler Film</td>\n",
       "      <td>01-01-1984</td>\n",
       "      <td>0</td>\n",
       "      <td>0</td>\n",
       "      <td>118.0</td>\n",
       "      <td>Released</td>\n",
       "      <td>NaN</td>\n",
       "      <td>2</td>\n",
       "      <td>Tarık Akan-Gülşen Bubikoğlu-Cüneyt Arkın-Çiğde...</td>\n",
       "      <td>pregnancy-model-sea captain-businessman-illega...</td>\n",
       "    </tr>\n",
       "    <tr>\n",
       "      <th>1</th>\n",
       "      <td>Those Who Work</td>\n",
       "      <td>Drama</td>\n",
       "      <td>fr</td>\n",
       "      <td>Frank a man of action who worked his way up al...</td>\n",
       "      <td>4.174</td>\n",
       "      <td>Box Productions-Novak Prod-Office Fédéral de l...</td>\n",
       "      <td>04-10-2018</td>\n",
       "      <td>0</td>\n",
       "      <td>0</td>\n",
       "      <td>102.0</td>\n",
       "      <td>Released</td>\n",
       "      <td>NaN</td>\n",
       "      <td>67</td>\n",
       "      <td>Olivier Gourmet-Adèle Bochatay-Delphine Bibet-...</td>\n",
       "      <td>NaN</td>\n",
       "    </tr>\n",
       "    <tr>\n",
       "      <th>2</th>\n",
       "      <td>Driven</td>\n",
       "      <td>NaN</td>\n",
       "      <td>en</td>\n",
       "      <td>In a world of adrenaline and speed a quadriple...</td>\n",
       "      <td>0.600</td>\n",
       "      <td>NaN</td>\n",
       "      <td>13-12-2019</td>\n",
       "      <td>0</td>\n",
       "      <td>0</td>\n",
       "      <td>17.0</td>\n",
       "      <td>Released</td>\n",
       "      <td>NaN</td>\n",
       "      <td>0</td>\n",
       "      <td>NaN</td>\n",
       "      <td>NaN</td>\n",
       "    </tr>\n",
       "    <tr>\n",
       "      <th>3</th>\n",
       "      <td>Netherlands Documentary</td>\n",
       "      <td>NaN</td>\n",
       "      <td>en</td>\n",
       "      <td>Sex Drugs &amp; Other Taboo Topics The World Is To...</td>\n",
       "      <td>0.600</td>\n",
       "      <td>NaN</td>\n",
       "      <td>27-02-2020</td>\n",
       "      <td>0</td>\n",
       "      <td>0</td>\n",
       "      <td>60.0</td>\n",
       "      <td>Released</td>\n",
       "      <td>NaN</td>\n",
       "      <td>0</td>\n",
       "      <td>NaN</td>\n",
       "      <td>NaN</td>\n",
       "    </tr>\n",
       "    <tr>\n",
       "      <th>4</th>\n",
       "      <td>Utta Danella - Der Verlobte meiner besten Freu...</td>\n",
       "      <td>Drama</td>\n",
       "      <td>de</td>\n",
       "      <td>Katharina and Elena are best friends. After a ...</td>\n",
       "      <td>1.152</td>\n",
       "      <td>NaN</td>\n",
       "      <td>03-04-2009</td>\n",
       "      <td>0</td>\n",
       "      <td>0</td>\n",
       "      <td>88.0</td>\n",
       "      <td>Released</td>\n",
       "      <td>NaN</td>\n",
       "      <td>2</td>\n",
       "      <td>Henriette Richter-Röhl-Ina Paule Klink-Robert ...</td>\n",
       "      <td>NaN</td>\n",
       "    </tr>\n",
       "  </tbody>\n",
       "</table>\n",
       "</div>"
      ],
      "text/plain": [
       "                                               title          genres  \\\n",
       "0                                          Alev Alev  Drama-Thriller   \n",
       "1                                     Those Who Work           Drama   \n",
       "2                                             Driven             NaN   \n",
       "3                            Netherlands Documentary             NaN   \n",
       "4  Utta Danella - Der Verlobte meiner besten Freu...           Drama   \n",
       "\n",
       "  original_language                                           overview  \\\n",
       "0                tr                                                NaN   \n",
       "1                fr  Frank a man of action who worked his way up al...   \n",
       "2                en  In a world of adrenaline and speed a quadriple...   \n",
       "3                en  Sex Drugs & Other Taboo Topics The World Is To...   \n",
       "4                de  Katharina and Elena are best friends. After a ...   \n",
       "\n",
       "   popularity                               production_companies release_date  \\\n",
       "0       0.664                                         Erler Film   01-01-1984   \n",
       "1       4.174  Box Productions-Novak Prod-Office Fédéral de l...   04-10-2018   \n",
       "2       0.600                                                NaN   13-12-2019   \n",
       "3       0.600                                                NaN   27-02-2020   \n",
       "4       1.152                                                NaN   03-04-2009   \n",
       "\n",
       "   budget  revenue  runtime    status tagline  vote_count  \\\n",
       "0       0        0    118.0  Released     NaN           2   \n",
       "1       0        0    102.0  Released     NaN          67   \n",
       "2       0        0     17.0  Released     NaN           0   \n",
       "3       0        0     60.0  Released     NaN           0   \n",
       "4       0        0     88.0  Released     NaN           2   \n",
       "\n",
       "                                             credits  \\\n",
       "0  Tarık Akan-Gülşen Bubikoğlu-Cüneyt Arkın-Çiğde...   \n",
       "1  Olivier Gourmet-Adèle Bochatay-Delphine Bibet-...   \n",
       "2                                                NaN   \n",
       "3                                                NaN   \n",
       "4  Henriette Richter-Röhl-Ina Paule Klink-Robert ...   \n",
       "\n",
       "                                            keywords  \n",
       "0  pregnancy-model-sea captain-businessman-illega...  \n",
       "1                                                NaN  \n",
       "2                                                NaN  \n",
       "3                                                NaN  \n",
       "4                                                NaN  "
      ]
     },
     "execution_count": 7,
     "metadata": {},
     "output_type": "execute_result"
    }
   ],
   "source": [
    "X_train.head()"
   ]
  },
  {
   "cell_type": "code",
   "execution_count": 8,
   "metadata": {},
   "outputs": [
    {
     "data": {
      "text/plain": [
       "title                        4\n",
       "genres                  223398\n",
       "original_language            0\n",
       "overview                122950\n",
       "popularity                   0\n",
       "production_companies    402472\n",
       "release_date             60287\n",
       "budget                       0\n",
       "revenue                      0\n",
       "runtime                  40194\n",
       "status                       0\n",
       "tagline                 641108\n",
       "vote_count                   0\n",
       "credits                 231217\n",
       "keywords                534209\n",
       "dtype: int64"
      ]
     },
     "execution_count": 8,
     "metadata": {},
     "output_type": "execute_result"
    }
   ],
   "source": [
    "X_train.isnull().sum()"
   ]
  },
  {
   "cell_type": "markdown",
   "metadata": {},
   "source": [
    "## First lets work on the Numeric part"
   ]
  },
  {
   "cell_type": "code",
   "execution_count": 9,
   "metadata": {},
   "outputs": [
    {
     "name": "stdout",
     "output_type": "stream",
     "text": [
      "<class 'pandas.core.frame.DataFrame'>\n",
      "RangeIndex: 752678 entries, 0 to 752677\n",
      "Data columns (total 15 columns):\n",
      " #   Column                Non-Null Count   Dtype  \n",
      "---  ------                --------------   -----  \n",
      " 0   title                 752674 non-null  object \n",
      " 1   genres                529280 non-null  object \n",
      " 2   original_language     752678 non-null  object \n",
      " 3   overview              629728 non-null  object \n",
      " 4   popularity            752678 non-null  float64\n",
      " 5   production_companies  350206 non-null  object \n",
      " 6   release_date          692391 non-null  object \n",
      " 7   budget                752678 non-null  int64  \n",
      " 8   revenue               752678 non-null  int64  \n",
      " 9   runtime               712484 non-null  float64\n",
      " 10  status                752678 non-null  object \n",
      " 11  tagline               111570 non-null  object \n",
      " 12  vote_count            752678 non-null  int64  \n",
      " 13  credits               521461 non-null  object \n",
      " 14  keywords              218469 non-null  object \n",
      "dtypes: float64(2), int64(3), object(10)\n",
      "memory usage: 86.1+ MB\n"
     ]
    }
   ],
   "source": [
    "X_train.info()"
   ]
  },
  {
   "cell_type": "code",
   "execution_count": 10,
   "metadata": {},
   "outputs": [],
   "source": [
    "le = preprocessing.LabelEncoder()\n",
    "le.fit(list(X_train['original_language']))\n",
    "org_lang = le.transform(list(X_train['original_language']))\n",
    "le.fit(X_train['status'])\n",
    "status = le.transform(list(X_train['status']))\n",
    "X_train.drop(columns=['original_language','status'] , inplace= True)"
   ]
  },
  {
   "cell_type": "code",
   "execution_count": 11,
   "metadata": {},
   "outputs": [
    {
     "data": {
      "text/html": [
       "<div>\n",
       "<style scoped>\n",
       "    .dataframe tbody tr th:only-of-type {\n",
       "        vertical-align: middle;\n",
       "    }\n",
       "\n",
       "    .dataframe tbody tr th {\n",
       "        vertical-align: top;\n",
       "    }\n",
       "\n",
       "    .dataframe thead th {\n",
       "        text-align: right;\n",
       "    }\n",
       "</style>\n",
       "<table border=\"1\" class=\"dataframe\">\n",
       "  <thead>\n",
       "    <tr style=\"text-align: right;\">\n",
       "      <th></th>\n",
       "      <th>original_language</th>\n",
       "      <th>title</th>\n",
       "      <th>status</th>\n",
       "      <th>genres</th>\n",
       "      <th>overview</th>\n",
       "      <th>popularity</th>\n",
       "      <th>production_companies</th>\n",
       "      <th>release_date</th>\n",
       "      <th>budget</th>\n",
       "      <th>revenue</th>\n",
       "      <th>runtime</th>\n",
       "      <th>tagline</th>\n",
       "      <th>vote_count</th>\n",
       "      <th>credits</th>\n",
       "      <th>keywords</th>\n",
       "    </tr>\n",
       "  </thead>\n",
       "  <tbody>\n",
       "    <tr>\n",
       "      <th>0</th>\n",
       "      <td>147</td>\n",
       "      <td>Alev Alev</td>\n",
       "      <td>4</td>\n",
       "      <td>Drama-Thriller</td>\n",
       "      <td>NaN</td>\n",
       "      <td>0.664</td>\n",
       "      <td>Erler Film</td>\n",
       "      <td>01-01-1984</td>\n",
       "      <td>0</td>\n",
       "      <td>0</td>\n",
       "      <td>118.0</td>\n",
       "      <td>NaN</td>\n",
       "      <td>2</td>\n",
       "      <td>Tarık Akan-Gülşen Bubikoğlu-Cüneyt Arkın-Çiğde...</td>\n",
       "      <td>pregnancy-model-sea captain-businessman-illega...</td>\n",
       "    </tr>\n",
       "    <tr>\n",
       "      <th>1</th>\n",
       "      <td>41</td>\n",
       "      <td>Those Who Work</td>\n",
       "      <td>4</td>\n",
       "      <td>Drama</td>\n",
       "      <td>Frank a man of action who worked his way up al...</td>\n",
       "      <td>4.174</td>\n",
       "      <td>Box Productions-Novak Prod-Office Fédéral de l...</td>\n",
       "      <td>04-10-2018</td>\n",
       "      <td>0</td>\n",
       "      <td>0</td>\n",
       "      <td>102.0</td>\n",
       "      <td>NaN</td>\n",
       "      <td>67</td>\n",
       "      <td>Olivier Gourmet-Adèle Bochatay-Delphine Bibet-...</td>\n",
       "      <td>NaN</td>\n",
       "    </tr>\n",
       "    <tr>\n",
       "      <th>2</th>\n",
       "      <td>31</td>\n",
       "      <td>Driven</td>\n",
       "      <td>4</td>\n",
       "      <td>NaN</td>\n",
       "      <td>In a world of adrenaline and speed a quadriple...</td>\n",
       "      <td>0.600</td>\n",
       "      <td>NaN</td>\n",
       "      <td>13-12-2019</td>\n",
       "      <td>0</td>\n",
       "      <td>0</td>\n",
       "      <td>17.0</td>\n",
       "      <td>NaN</td>\n",
       "      <td>0</td>\n",
       "      <td>NaN</td>\n",
       "      <td>NaN</td>\n",
       "    </tr>\n",
       "    <tr>\n",
       "      <th>3</th>\n",
       "      <td>31</td>\n",
       "      <td>Netherlands Documentary</td>\n",
       "      <td>4</td>\n",
       "      <td>NaN</td>\n",
       "      <td>Sex Drugs &amp; Other Taboo Topics The World Is To...</td>\n",
       "      <td>0.600</td>\n",
       "      <td>NaN</td>\n",
       "      <td>27-02-2020</td>\n",
       "      <td>0</td>\n",
       "      <td>0</td>\n",
       "      <td>60.0</td>\n",
       "      <td>NaN</td>\n",
       "      <td>0</td>\n",
       "      <td>NaN</td>\n",
       "      <td>NaN</td>\n",
       "    </tr>\n",
       "    <tr>\n",
       "      <th>4</th>\n",
       "      <td>27</td>\n",
       "      <td>Utta Danella - Der Verlobte meiner besten Freu...</td>\n",
       "      <td>4</td>\n",
       "      <td>Drama</td>\n",
       "      <td>Katharina and Elena are best friends. After a ...</td>\n",
       "      <td>1.152</td>\n",
       "      <td>NaN</td>\n",
       "      <td>03-04-2009</td>\n",
       "      <td>0</td>\n",
       "      <td>0</td>\n",
       "      <td>88.0</td>\n",
       "      <td>NaN</td>\n",
       "      <td>2</td>\n",
       "      <td>Henriette Richter-Röhl-Ina Paule Klink-Robert ...</td>\n",
       "      <td>NaN</td>\n",
       "    </tr>\n",
       "  </tbody>\n",
       "</table>\n",
       "</div>"
      ],
      "text/plain": [
       "   original_language                                              title  \\\n",
       "0                147                                          Alev Alev   \n",
       "1                 41                                     Those Who Work   \n",
       "2                 31                                             Driven   \n",
       "3                 31                            Netherlands Documentary   \n",
       "4                 27  Utta Danella - Der Verlobte meiner besten Freu...   \n",
       "\n",
       "   status          genres                                           overview  \\\n",
       "0       4  Drama-Thriller                                                NaN   \n",
       "1       4           Drama  Frank a man of action who worked his way up al...   \n",
       "2       4             NaN  In a world of adrenaline and speed a quadriple...   \n",
       "3       4             NaN  Sex Drugs & Other Taboo Topics The World Is To...   \n",
       "4       4           Drama  Katharina and Elena are best friends. After a ...   \n",
       "\n",
       "   popularity                               production_companies release_date  \\\n",
       "0       0.664                                         Erler Film   01-01-1984   \n",
       "1       4.174  Box Productions-Novak Prod-Office Fédéral de l...   04-10-2018   \n",
       "2       0.600                                                NaN   13-12-2019   \n",
       "3       0.600                                                NaN   27-02-2020   \n",
       "4       1.152                                                NaN   03-04-2009   \n",
       "\n",
       "   budget  revenue  runtime tagline  vote_count  \\\n",
       "0       0        0    118.0     NaN           2   \n",
       "1       0        0    102.0     NaN          67   \n",
       "2       0        0     17.0     NaN           0   \n",
       "3       0        0     60.0     NaN           0   \n",
       "4       0        0     88.0     NaN           2   \n",
       "\n",
       "                                             credits  \\\n",
       "0  Tarık Akan-Gülşen Bubikoğlu-Cüneyt Arkın-Çiğde...   \n",
       "1  Olivier Gourmet-Adèle Bochatay-Delphine Bibet-...   \n",
       "2                                                NaN   \n",
       "3                                                NaN   \n",
       "4  Henriette Richter-Röhl-Ina Paule Klink-Robert ...   \n",
       "\n",
       "                                            keywords  \n",
       "0  pregnancy-model-sea captain-businessman-illega...  \n",
       "1                                                NaN  \n",
       "2                                                NaN  \n",
       "3                                                NaN  \n",
       "4                                                NaN  "
      ]
     },
     "execution_count": 11,
     "metadata": {},
     "output_type": "execute_result"
    }
   ],
   "source": [
    "X_train.insert(1, 'status', status)\n",
    "X_train.insert(0, 'original_language', org_lang)\n",
    "X_train.head()"
   ]
  },
  {
   "cell_type": "markdown",
   "metadata": {},
   "source": [
    "### Building the neural network for numeric part of the code"
   ]
  },
  {
   "cell_type": "code",
   "execution_count": 12,
   "metadata": {},
   "outputs": [
    {
     "data": {
      "text/plain": [
       "original_language            0\n",
       "title                        4\n",
       "status                       0\n",
       "genres                  223398\n",
       "overview                122950\n",
       "popularity                   0\n",
       "production_companies    402472\n",
       "release_date             60287\n",
       "budget                       0\n",
       "revenue                      0\n",
       "runtime                  40194\n",
       "tagline                 641108\n",
       "vote_count                   0\n",
       "credits                 231217\n",
       "keywords                534209\n",
       "dtype: int64"
      ]
     },
     "execution_count": 12,
     "metadata": {},
     "output_type": "execute_result"
    }
   ],
   "source": [
    "number_columns = ['vote_average', 'vote_count', 'runtime', 'revenue', 'budget', 'popularity']\n",
    "X_train.isnull().sum()"
   ]
  },
  {
   "cell_type": "code",
   "execution_count": 13,
   "metadata": {},
   "outputs": [],
   "source": [
    "X_train['runtime'] = X_train['runtime'].fillna(X_train['runtime'].mean())"
   ]
  },
  {
   "cell_type": "code",
   "execution_count": 14,
   "metadata": {},
   "outputs": [
    {
     "data": {
      "text/plain": [
       "original_language            0\n",
       "title                        4\n",
       "status                       0\n",
       "genres                  223398\n",
       "overview                122950\n",
       "popularity                   0\n",
       "production_companies    402472\n",
       "release_date             60287\n",
       "budget                       0\n",
       "revenue                      0\n",
       "runtime                      0\n",
       "tagline                 641108\n",
       "vote_count                   0\n",
       "credits                 231217\n",
       "keywords                534209\n",
       "dtype: int64"
      ]
     },
     "execution_count": 14,
     "metadata": {},
     "output_type": "execute_result"
    }
   ],
   "source": [
    "X_train.isna().sum()"
   ]
  },
  {
   "cell_type": "code",
   "execution_count": 15,
   "metadata": {},
   "outputs": [],
   "source": [
    "X_train = X_train[['vote_count', 'runtime', 'revenue', 'budget', 'popularity', 'original_language', 'status']]"
   ]
  },
  {
   "cell_type": "code",
   "execution_count": 16,
   "metadata": {},
   "outputs": [
    {
     "data": {
      "text/html": [
       "<div>\n",
       "<style scoped>\n",
       "    .dataframe tbody tr th:only-of-type {\n",
       "        vertical-align: middle;\n",
       "    }\n",
       "\n",
       "    .dataframe tbody tr th {\n",
       "        vertical-align: top;\n",
       "    }\n",
       "\n",
       "    .dataframe thead th {\n",
       "        text-align: right;\n",
       "    }\n",
       "</style>\n",
       "<table border=\"1\" class=\"dataframe\">\n",
       "  <thead>\n",
       "    <tr style=\"text-align: right;\">\n",
       "      <th></th>\n",
       "      <th>vote_count</th>\n",
       "      <th>runtime</th>\n",
       "      <th>revenue</th>\n",
       "      <th>budget</th>\n",
       "      <th>popularity</th>\n",
       "      <th>original_language</th>\n",
       "      <th>status</th>\n",
       "    </tr>\n",
       "  </thead>\n",
       "  <tbody>\n",
       "    <tr>\n",
       "      <th>0</th>\n",
       "      <td>2</td>\n",
       "      <td>118.0</td>\n",
       "      <td>0</td>\n",
       "      <td>0</td>\n",
       "      <td>0.664</td>\n",
       "      <td>147</td>\n",
       "      <td>4</td>\n",
       "    </tr>\n",
       "    <tr>\n",
       "      <th>1</th>\n",
       "      <td>67</td>\n",
       "      <td>102.0</td>\n",
       "      <td>0</td>\n",
       "      <td>0</td>\n",
       "      <td>4.174</td>\n",
       "      <td>41</td>\n",
       "      <td>4</td>\n",
       "    </tr>\n",
       "    <tr>\n",
       "      <th>2</th>\n",
       "      <td>0</td>\n",
       "      <td>17.0</td>\n",
       "      <td>0</td>\n",
       "      <td>0</td>\n",
       "      <td>0.600</td>\n",
       "      <td>31</td>\n",
       "      <td>4</td>\n",
       "    </tr>\n",
       "    <tr>\n",
       "      <th>3</th>\n",
       "      <td>0</td>\n",
       "      <td>60.0</td>\n",
       "      <td>0</td>\n",
       "      <td>0</td>\n",
       "      <td>0.600</td>\n",
       "      <td>31</td>\n",
       "      <td>4</td>\n",
       "    </tr>\n",
       "    <tr>\n",
       "      <th>4</th>\n",
       "      <td>2</td>\n",
       "      <td>88.0</td>\n",
       "      <td>0</td>\n",
       "      <td>0</td>\n",
       "      <td>1.152</td>\n",
       "      <td>27</td>\n",
       "      <td>4</td>\n",
       "    </tr>\n",
       "  </tbody>\n",
       "</table>\n",
       "</div>"
      ],
      "text/plain": [
       "   vote_count  runtime  revenue  budget  popularity  original_language  status\n",
       "0           2    118.0        0       0       0.664                147       4\n",
       "1          67    102.0        0       0       4.174                 41       4\n",
       "2           0     17.0        0       0       0.600                 31       4\n",
       "3           0     60.0        0       0       0.600                 31       4\n",
       "4           2     88.0        0       0       1.152                 27       4"
      ]
     },
     "execution_count": 16,
     "metadata": {},
     "output_type": "execute_result"
    }
   ],
   "source": [
    "X_train.head()"
   ]
  },
  {
   "cell_type": "code",
   "execution_count": 17,
   "metadata": {},
   "outputs": [
    {
     "data": {
      "text/plain": [
       "vote_count           0\n",
       "runtime              0\n",
       "revenue              0\n",
       "budget               0\n",
       "popularity           0\n",
       "original_language    0\n",
       "status               0\n",
       "dtype: int64"
      ]
     },
     "execution_count": 17,
     "metadata": {},
     "output_type": "execute_result"
    }
   ],
   "source": [
    "X_train.isnull().sum()"
   ]
  },
  {
   "cell_type": "code",
   "execution_count": null,
   "metadata": {},
   "outputs": [],
   "source": [
    "NN_model = Sequential()\n",
    "\n",
    "# The Input Layer :\n",
    "NN_model.add(Dense(128, kernel_initializer='normal',input_dim = X_train.shape[1], activation='relu'))\n",
    "\n",
    "# The Hidden Layers :\n",
    "NN_model.add(Dense(128, kernel_initializer='normal',activation='relu'))\n",
    "NN_model.add(Dense(128, kernel_initializer='normal',activation='relu'))\n",
    "# NN_model.add(Dense(256, kernel_initializer='normal',activation='relu'))\n",
    "\n",
    "# The Output Layer :\n",
    "NN_model.add(Dense(1, kernel_initializer='normal',activation='linear'))\n",
    "\n",
    "# Compile the network :\n",
    "NN_model.compile(loss='mean_absolute_error', optimizer='adam', metrics=['mean_absolute_error'])"
   ]
  },
  {
   "cell_type": "code",
   "execution_count": 19,
   "metadata": {},
   "outputs": [
    {
     "name": "stdout",
     "output_type": "stream",
     "text": [
      "Model: \"sequential\"\n",
      "_________________________________________________________________\n",
      "Layer (type)                 Output Shape              Param #   \n",
      "=================================================================\n",
      "dense (Dense)                (None, 128)               1024      \n",
      "_________________________________________________________________\n",
      "dense_1 (Dense)              (None, 128)               16512     \n",
      "_________________________________________________________________\n",
      "dense_2 (Dense)              (None, 128)               16512     \n",
      "_________________________________________________________________\n",
      "dense_3 (Dense)              (None, 1)                 129       \n",
      "=================================================================\n",
      "Total params: 34,177\n",
      "Trainable params: 34,177\n",
      "Non-trainable params: 0\n",
      "_________________________________________________________________\n"
     ]
    }
   ],
   "source": [
    "NN_model.summary()"
   ]
  },
  {
   "cell_type": "code",
   "execution_count": 20,
   "metadata": {},
   "outputs": [],
   "source": [
    "checkpoint_name = 'Weights-{epoch:03d}--{val_loss:.5f}.hX_train5' \n",
    "checkpoint = ModelCheckpoint(checkpoint_name, monitor='val_loss', verbose = 1, save_best_only = True, mode ='auto')\n",
    "callbacks_list = [checkpoint]"
   ]
  },
  {
   "cell_type": "code",
   "execution_count": 21,
   "metadata": {},
   "outputs": [
    {
     "data": {
      "text/plain": [
       "[PhysicalDevice(name='/physical_device:GPU:0', device_type='GPU'),\n",
       " PhysicalDevice(name='/physical_device:GPU:1', device_type='GPU'),\n",
       " PhysicalDevice(name='/physical_device:GPU:2', device_type='GPU'),\n",
       " PhysicalDevice(name='/physical_device:GPU:3', device_type='GPU')]"
      ]
     },
     "execution_count": 21,
     "metadata": {},
     "output_type": "execute_result"
    }
   ],
   "source": [
    "tf.config.list_physical_devices('GPU')"
   ]
  },
  {
   "cell_type": "code",
   "execution_count": null,
   "metadata": {},
   "outputs": [],
   "source": [
    "# with tf.device('/GPU:0'):\n",
    "NN_model.fit(X_train, y_train, epochs=100, batch_size=32, validation_split = 0.1, callbacks=callbacks_list)"
   ]
  }
 ],
 "metadata": {
  "kernelspec": {
   "display_name": "Python 3.8.13 ('final_env': conda)",
   "language": "python",
   "name": "python3"
  },
  "language_info": {
   "codemirror_mode": {
    "name": "ipython",
    "version": 3
   },
   "file_extension": ".py",
   "mimetype": "text/x-python",
   "name": "python",
   "nbconvert_exporter": "python",
   "pygments_lexer": "ipython3",
   "version": "3.8.13"
  },
  "orig_nbformat": 4,
  "vscode": {
   "interpreter": {
    "hash": "f32098bf18b237a29edf33fb109e7161a223a7c7e245abe4c7b7b2f95aa30c17"
   }
  }
 },
 "nbformat": 4,
 "nbformat_minor": 2
}
